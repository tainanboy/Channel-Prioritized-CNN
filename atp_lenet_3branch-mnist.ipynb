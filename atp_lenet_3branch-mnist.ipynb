{
 "cells": [
  {
   "cell_type": "code",
   "execution_count": 1,
   "metadata": {
    "collapsed": true
   },
   "outputs": [],
   "source": [
    "import torch\n",
    "from torch.autograd import Variable\n",
    "import torch.nn as nn\n",
    "import torch.nn.functional as F\n",
    "import torch.optim as optim\n",
    "import torchvision\n",
    "import torchvision.transforms as transforms\n",
    "import torchvision.models as models\n",
    "from torch.utils.data import sampler\n",
    "import math\n",
    "import os\n",
    "os.environ[\"CUDA_VISIBLE_DEVICES\"] = \"0\"\n",
    "import matplotlib.pyplot as plt\n",
    "%matplotlib inline\n",
    "import numpy as np"
   ]
  },
  {
   "cell_type": "code",
   "execution_count": 2,
   "metadata": {},
   "outputs": [
    {
     "name": "stdout",
     "output_type": "stream",
     "text": [
      "1\n",
      "True\n"
     ]
    }
   ],
   "source": [
    "#torch.cuda.set_device(0)\n",
    "# specify dtype\n",
    "use_cuda = torch.cuda.is_available()\n",
    "if use_cuda:\n",
    "    dtype = torch.cuda.FloatTensor\n",
    "else:\n",
    "    dtype = torch.FloatTensor\n",
    "print(torch.cuda.device_count())\n",
    "print(use_cuda)"
   ]
  },
  {
   "cell_type": "code",
   "execution_count": 3,
   "metadata": {
    "collapsed": true
   },
   "outputs": [],
   "source": [
    "# Hyperparameters\n",
    "batch_size = 32\n",
    "learning_rate = 1e-3\n",
    "momentum = 0.9\n",
    "num_epoch_atp = 50\n",
    "num_epoch = 15"
   ]
  },
  {
   "cell_type": "code",
   "execution_count": 4,
   "metadata": {},
   "outputs": [
    {
     "name": "stdout",
     "output_type": "stream",
     "text": [
      "60000\n",
      "10000\n",
      "10000\n"
     ]
    }
   ],
   "source": [
    "# Data\n",
    "class ChunkSampler(sampler.Sampler):\n",
    "    \"\"\"Samples elements sequentially from some offset. \n",
    "    Arguments:\n",
    "        num_samples: # of desired datapoints\n",
    "        start: offset where we should start selecting from\n",
    "    \"\"\"\n",
    "    def __init__(self, num_samples, start = 0):\n",
    "        self.num_samples = num_samples\n",
    "        self.start = start\n",
    "\n",
    "    def __iter__(self):\n",
    "        return iter(range(self.start, self.start + self.num_samples))\n",
    "\n",
    "    def __len__(self):\n",
    "        return self.num_samples\n",
    "\n",
    "data_path = '/home/put_data/frank840925/IDP/data'\n",
    "transform=transforms.Compose(\n",
    "    [transforms.ToTensor(),\n",
    "     transforms.Normalize((0.1307,), (0.3081,))])\n",
    "\n",
    "trainset = torchvision.datasets.MNIST(root=data_path, \n",
    "                                        train=True, download=True, transform=transform)\n",
    "trainloader = torch.utils.data.DataLoader(trainset, batch_size=batch_size, shuffle=True, \n",
    "                                          num_workers=4)\n",
    "\n",
    "valset = torchvision.datasets.MNIST(root=data_path, \n",
    "                                       train=False, download=True, transform=transform)\n",
    "valloader = torch.utils.data.DataLoader(valset, batch_size=batch_size, shuffle=False, sampler=ChunkSampler(5000,0), \n",
    "                                        num_workers=4)\n",
    "\n",
    "testset = torchvision.datasets.MNIST(root=data_path, \n",
    "                                       train=False, download=True, transform=transform)\n",
    "testloader = torch.utils.data.DataLoader(testset, batch_size=batch_size, shuffle=False, sampler=ChunkSampler(5000,5000),\n",
    "                                        num_workers=4)\n",
    "\n",
    "print(trainset.__len__())\n",
    "print(valset.__len__())\n",
    "print(testset.__len__())"
   ]
  },
  {
   "cell_type": "code",
   "execution_count": 5,
   "metadata": {},
   "outputs": [
    {
     "name": "stdout",
     "output_type": "stream",
     "text": [
      "torch.Size([32, 1, 28, 28])\n"
     ]
    }
   ],
   "source": [
    "# Helper functions\n",
    "def plot_losses(loss_history1=None, loss_history2=None):\n",
    "    plt.clf()\n",
    "    fig = plt.figure()\n",
    "    ax1 = fig.add_subplot(111)\n",
    "    if loss_history1:\n",
    "        ax1.plot(loss_history1, color=\"blue\", label=\"train\")\n",
    "    if loss_history2:\n",
    "        ax1.plot(loss_history2, color=\"green\", label=\"val\")\n",
    "    #ax2 = ax1.twinx()\n",
    "    #ax2.set_yscale('log')\n",
    "    plt.xlabel(\"epoch\") \n",
    "    plt.ylabel(\"loss\") \n",
    "    plt.legend(bbox_to_anchor=(1.05, 1), loc=2, borderaxespad=0.)\n",
    "    plt.title(\"Cross-entropy loss\")\n",
    "    #plt.savefig('output_losses.png')\n",
    "\n",
    "def plot_accuracy(accuracy1=None, accuracy2=None):\n",
    "    plt.clf()\n",
    "    fig2 = plt.figure()\n",
    "    ax1 = fig2.add_subplot(111)\n",
    "    if accuracy1:\n",
    "        ax1.plot(accuracy1, color=\"red\", label=\"train\")\n",
    "    if accuracy2:\n",
    "        ax1.plot(accuracy2, color=\"black\", label=\"val\")\n",
    "    plt.xlabel(\"epoch\") \n",
    "    plt.ylabel(\"accuracy\")\n",
    "    plt.legend(bbox_to_anchor=(1.05, 1), loc=2, borderaxespad=0.)\n",
    "    plt.title(\"Train/Val accuracy\") \n",
    "    #plt.savefig('accuracy.png')\n",
    "\n",
    "# get some random training images\n",
    "dataiter = iter(trainloader)\n",
    "images, labels = dataiter.next()\n",
    "print(images.shape)"
   ]
  },
  {
   "cell_type": "code",
   "execution_count": 6,
   "metadata": {
    "collapsed": true
   },
   "outputs": [],
   "source": [
    "class LeNet_MNIST(nn.Module):\n",
    "    def __init__(self):\n",
    "        super(LeNet_MNIST, self).__init__()\n",
    "        self.features = nn.Sequential(nn.Conv2d(1, 16, 5, padding=2),\n",
    "                                      nn.ReLU(True),\n",
    "                                      nn.MaxPool2d(2),\n",
    "                                      nn.Conv2d(16, 32, 5),\n",
    "                                      nn.ReLU(True),\n",
    "                                      nn.MaxPool2d(2))\n",
    "        self.classifier = nn.Sequential(nn.Linear(32*5*5, 120),\n",
    "                                        nn.ReLU(True),\n",
    "                                        nn.Linear(120, 84),\n",
    "                                        nn.ReLU(True),\n",
    "                                        nn.Linear(84, 10))\n",
    "\n",
    "    def forward(self, x):\n",
    "        out = self.features(x)\n",
    "        out = out.view(out.size(0), -1)\n",
    "        out = self.classifier(out)\n",
    "        return out"
   ]
  },
  {
   "cell_type": "code",
   "execution_count": 7,
   "metadata": {},
   "outputs": [
    {
     "name": "stdout",
     "output_type": "stream",
     "text": [
      "[Conv2d(1, 16, kernel_size=(5, 5), stride=(1, 1), padding=(2, 2)), ReLU (inplace), MaxPool2d (size=(2, 2), stride=(2, 2), dilation=(1, 1)), Conv2d(16, 32, kernel_size=(5, 5), stride=(1, 1)), ReLU (inplace), MaxPool2d (size=(2, 2), stride=(2, 2), dilation=(1, 1))]\n"
     ]
    }
   ],
   "source": [
    "lenet = LeNet_MNIST().type(dtype)\n",
    "print(list(lenet.features.children()))"
   ]
  },
  {
   "cell_type": "code",
   "execution_count": 8,
   "metadata": {},
   "outputs": [
    {
     "data": {
      "text/plain": [
       "torch.Size([32, 10])"
      ]
     },
     "execution_count": 8,
     "metadata": {},
     "output_type": "execute_result"
    }
   ],
   "source": [
    "x = Variable(torch.randn(32,1,28,28)).type(dtype)\n",
    "lenet(x).size()"
   ]
  },
  {
   "cell_type": "code",
   "execution_count": 9,
   "metadata": {
    "collapsed": true
   },
   "outputs": [],
   "source": [
    "class Flatten(nn.Module):\n",
    "    def forward(self, x):\n",
    "        # read in N, C, H, W\n",
    "        N, C, H, W = x.size()\n",
    "        # flatten the C * H * W values into a single vector per image\n",
    "        return x.view(N, -1)  \n",
    "        \n",
    "class first_idp_tensor_3(nn.Module):\n",
    "    def __init__(self, idp1=0.35, idp2=0.7, idp3=1):\n",
    "        super(first_idp_tensor_3, self).__init__()\n",
    "        self.idp1 = idp1\n",
    "        self.idp2 = idp2\n",
    "        self.idp3 = idp3\n",
    "    def forward(self, c):\n",
    "        #input the first conv-Relu-Linear output, N*C*H*W, replicate and apply idp and concat in first dim (N)\n",
    "        N, C, H, W = c.size()\n",
    "        non_zero_channel_1 = int(C*(self.idp1))\n",
    "        non_zero_channel_2 = int(C*(self.idp2))\n",
    "        non_zero_channel_3 = int(C*(self.idp3))\n",
    "        if C-non_zero_channel_1 > 0:\n",
    "            #zeros = Variable(torch.zeros(N, C-non_zero_channel_1, H, W)).type(dtype)\n",
    "            zeros = Variable(torch.zeros(C-non_zero_channel_1).view(C-non_zero_channel_1,1)).type(dtype) #C\n",
    "            zeros = zeros.expand(C-non_zero_channel_1, H) #C*H\n",
    "            zeros = torch.stack([zeros]*W,1) #C*H*W\n",
    "            zeros = torch.stack([zeros]*N) #N*C*H*W\n",
    "            c1 = torch.cat([c[:, :non_zero_channel_1, :, :].clone(), zeros], 1).type(dtype)\n",
    "        else:\n",
    "            c1 = c\n",
    "        if C-non_zero_channel_2 > 0:\n",
    "            #zeros = Variable(torch.zeros(N, C-non_zero_channel_2, H, W)).type(dtype)\n",
    "            zeros = Variable(torch.zeros(C-non_zero_channel_2).view(C-non_zero_channel_2,1)).type(dtype) #C\n",
    "            zeros = zeros.expand(C-non_zero_channel_2, H) #C*H\n",
    "            zeros = torch.stack([zeros]*W,1) #C*H*W\n",
    "            zeros = torch.stack([zeros]*N) #N*C*H*W\n",
    "            c2 = torch.cat([c[:, :non_zero_channel_2, :, :].clone(), zeros], 1).type(dtype)\n",
    "        else:\n",
    "            c2 = c\n",
    "        if C-non_zero_channel_3 > 0:\n",
    "            #zeros = Variable(torch.zeros(N, C-non_zero_channel_3, H, W)).type(dtype)\n",
    "            zeros = Variable(torch.zeros(C-non_zero_channel_3).view(C-non_zero_channel_3,1)).type(dtype) #C\n",
    "            zeros = zeros.expand(C-non_zero_channel_3, H) #C*H\n",
    "            zeros = torch.stack([zeros]*W,1) #C*H*W\n",
    "            zeros = torch.stack([zeros]*N) #N*C*H*W\n",
    "            c3 = torch.cat([c[:, :non_zero_channel_3, :, :].clone(), zeros], 1).type(dtype)\n",
    "        else:\n",
    "            c3 = c\n",
    "        out = torch.cat([c1, c2, c3], 0)\n",
    "        return out\n",
    "        \n",
    "class middle_idp_tensor_3(nn.Module):\n",
    "    def __init__(self, idp1=0.35, idp2=0.7, idp3=1):\n",
    "        super(middle_idp_tensor_3, self).__init__()\n",
    "        self.idp1 = idp1\n",
    "        self.idp2 = idp2\n",
    "        self.idp3 = idp3\n",
    "    def forward(self, c):\n",
    "        #input a middle conv-Relu-Linear output, (3*N)*C*H*W, apply IDP1, IDP2, IDP3 to each\n",
    "        NN, C, H, W = c.size()\n",
    "        if NN>=3:\n",
    "            N = int(NN/3)\n",
    "            non_zero_channel_1 = int(C*(self.idp1))\n",
    "            non_zero_channel_2 = int(C*(self.idp2))\n",
    "            non_zero_channel_3 = int(C*(self.idp3))\n",
    "            c1 = c[:N,:,:,:]\n",
    "            c2 = c[N:2*N,:,:,:]\n",
    "            c3 = c[2*N:,:,:,:]\n",
    "            if C-non_zero_channel_1 > 0:\n",
    "                #zeros = Variable(torch.zeros(N, C-non_zero_channel_1, H, W)).type(dtype)\n",
    "                zeros = Variable(torch.zeros(C-non_zero_channel_1).view(C-non_zero_channel_1,1)).type(dtype) #C\n",
    "                zeros = zeros.expand(C-non_zero_channel_1, H) #C*H\n",
    "                zeros = torch.stack([zeros]*W,1) #C*H*W\n",
    "                zeros = torch.stack([zeros]*N) #N*C*H*W\n",
    "                c1 = torch.cat([c1[:, :non_zero_channel_1, :, :].clone(), zeros], 1).type(dtype)\n",
    "            else:\n",
    "                c1 = c1\n",
    "            if C-non_zero_channel_2 > 0:\n",
    "                #zeros = Variable(torch.zeros(N, C-non_zero_channel_2, H, W)).type(dtype)\n",
    "                zeros = Variable(torch.zeros(C-non_zero_channel_2).view(C-non_zero_channel_2,1)).type(dtype) #C\n",
    "                zeros = zeros.expand(C-non_zero_channel_2, H) #C*H\n",
    "                zeros = torch.stack([zeros]*W,1) #C*H*W\n",
    "                zeros = torch.stack([zeros]*N) #N*C*H*W\n",
    "                c2 = torch.cat([c2[:, :non_zero_channel_2, :, :].clone(), zeros], 1).type(dtype)\n",
    "            else:\n",
    "                c2 = c2\n",
    "            if C-non_zero_channel_3 > 0:\n",
    "                #zeros = Variable(torch.zeros(N, C-non_zero_channel_3, H, W)).type(dtype)\n",
    "                zeros = Variable(torch.zeros(C-non_zero_channel_3).view(C-non_zero_channel_3,1)).type(dtype) #C\n",
    "                zeros = zeros.expand(C-non_zero_channel_3, H) #C*H\n",
    "                zeros = torch.stack([zeros]*W,1) #C*H*W\n",
    "                zeros = torch.stack([zeros]*N) #N*C*H*W\n",
    "                c3 = torch.cat([c3[:, :non_zero_channel_3, :, :].clone(), zeros], 1).type(dtype)\n",
    "            else:\n",
    "                c3 = c3\n",
    "            out = torch.cat([c1, c2, c3],0)\n",
    "            return out\n",
    "        else:\n",
    "            return c\n",
    "    \n",
    "class func_trainable1(nn.Module):\n",
    "    def __init__(self):\n",
    "        super(func_trainable1, self).__init__()\n",
    "        self.coeff_tensor =  nn.Parameter(torch.ones(16).type(dtype)) \n",
    "    \n",
    "    def forward(self, x):\n",
    "        N, C, H, W = x.size()\n",
    "        coeff_tensor = self.coeff_tensor.view(C, 1)\n",
    "        coeff_tensor = coeff_tensor.expand(C, H) #C*H\n",
    "        coeff_tensor = torch.stack([coeff_tensor]*W,1) #C*H*W\n",
    "        coeff_tensor = torch.stack(([coeff_tensor]*N)) #N*C*H*W\n",
    "        \n",
    "        x = torch.mul(x.clone(), coeff_tensor)\n",
    "        return x\n",
    "    \n",
    "class func_trainable2(nn.Module):\n",
    "    def __init__(self):\n",
    "        super(func_trainable2, self).__init__()\n",
    "        self.coeff_tensor =  nn.Parameter(torch.ones(32).type(dtype))  \n",
    "    \n",
    "    def forward(self, x):\n",
    "        N, C, H, W = x.size()\n",
    "        coeff_tensor = self.coeff_tensor.view(C, 1)\n",
    "        coeff_tensor = coeff_tensor.expand(C, H) #C*H\n",
    "        coeff_tensor = torch.stack([coeff_tensor]*W,1) #C*H*W\n",
    "        coeff_tensor = torch.stack(([coeff_tensor]*N)) #N*C*H*W\n",
    "        \n",
    "        x = torch.mul(x.clone(), coeff_tensor)\n",
    "        return x"
   ]
  },
  {
   "cell_type": "code",
   "execution_count": 10,
   "metadata": {
    "collapsed": true
   },
   "outputs": [],
   "source": [
    "class atp_tesla_coef_idp_lenet_3branch(nn.Module):\n",
    "    def __init__(self, idp_layers, model, idp1=0.35, idp2=0.7, idp3=1):\n",
    "        #idp is 0~1, idp_layers is a set, specify which layer in features should apply idp\n",
    "        #now idp_layers is 1,4\n",
    "        super(atp_tesla_coef_idp_lenet_3branch, self).__init__()\n",
    "        self.idp1 = idp1\n",
    "        self.idp2 = idp2\n",
    "        self.idp3 = idp3\n",
    "        self.idp_layers = idp_layers\n",
    "        self.features = nn.Sequential(*(self.new_features_list(model)))\n",
    "        self.classifier = model.classifier\n",
    "        \n",
    "    def new_features_list(self, model):\n",
    "        new_layers = nn.ModuleList()\n",
    "        for i, layer in enumerate(list(model.features.children())):\n",
    "            if i ==1:\n",
    "                new_layers.append(layer)\n",
    "                new_layers.append(func_trainable1())\n",
    "                new_layers.append(first_idp_tensor_3(self.idp1, self.idp2, self.idp3))\n",
    "            elif i not in self.idp_layers:\n",
    "                new_layers.append(layer)                \n",
    "            else:\n",
    "                new_layers.append(layer)\n",
    "                new_layers.append(func_trainable2())\n",
    "                new_layers.append(middle_idp_tensor_3(self.idp1, self.idp2, self.idp3))\n",
    "        new_layers.append(Flatten())\n",
    "        return new_layers        \n",
    "    \n",
    "    def forward(self, x):\n",
    "        f = self.features(x)\n",
    "        NN, M = f.size()\n",
    "        N = int(NN/3)\n",
    "        o1 = f[:N, :]\n",
    "        o2 = f[N:2*N, :]\n",
    "        o3 = f[2*N:,:]\n",
    "        o1 = self.classifier(o1)\n",
    "        o2 = self.classifier(o2)\n",
    "        o3 = self.classifier(o3)\n",
    "        return o1, o2, o3"
   ]
  },
  {
   "cell_type": "code",
   "execution_count": 11,
   "metadata": {
    "collapsed": true
   },
   "outputs": [],
   "source": [
    "def atp_train_tesla_3(num_epoch, net, criterion, optimizer1, optimizer2, alpha1=0, alpha2=0, alpha3=1, index=2):\n",
    "    train_loss = []\n",
    "    test_loss = []\n",
    "    train_acc = []\n",
    "    test_acc = []\n",
    "    gamma1_history = [] #size 6\n",
    "    gamma2_history = [] #size 16\n",
    "\n",
    "    # start training\n",
    "    for epoch in range(num_epoch):\n",
    "        if epoch%2 == 0:\n",
    "            #train weight and bias\n",
    "            running_loss1 = []\n",
    "            running_loss2 = []\n",
    "            running_correct1=[]\n",
    "            running_correct2=[]\n",
    "            for i, data in enumerate(trainloader, 0):\n",
    "                correct = 0\n",
    "                net.train(True)\n",
    "                # get the inputs\n",
    "                inputs, labels = data\n",
    "                # wrap them in Variable\n",
    "                inputs, labels = Variable(inputs).type(dtype), Variable(labels).type(torch.cuda.LongTensor)\n",
    "                # zero the parameter gradients\n",
    "                optimizer1.zero_grad()\n",
    "                # forward + backward + optimize\n",
    "                outputs = net(inputs)\n",
    "                loss1 = criterion(outputs[0], labels) #idp-low\n",
    "                loss2 = criterion(outputs[1], labels) #idp-mid\n",
    "                loss3 = criterion(outputs[2], labels) #idp-high\n",
    "                loss = alpha1*loss1+alpha2*loss2+alpha3*loss3\n",
    "                loss.backward()\n",
    "                optimizer1.step()\n",
    "                # print statistics\n",
    "                # loss\n",
    "                running_loss1.append(loss.data[0])\n",
    "                # accuracy\n",
    "                _, predicted = torch.max(outputs[index].data, 1)\n",
    "                correct += (predicted == labels.data).sum()\n",
    "                correct = correct/labels.size(0)*100\n",
    "                running_correct1.append(correct)\n",
    "\n",
    "            for i, tdata in enumerate(valloader, 0):\n",
    "                test_correct = 0\n",
    "                net.train(False)\n",
    "                tinputs, tlabels = tdata\n",
    "                tinputs, tlabels = Variable(tinputs).type(dtype), Variable(tlabels).type(torch.cuda.LongTensor)\n",
    "                toutputs = net(tinputs)\n",
    "                tloss1 = criterion(toutputs[0], tlabels)\n",
    "                tloss2 = criterion(toutputs[1], tlabels)\n",
    "                tloss3 = criterion(toutputs[2], tlabels)\n",
    "                tloss = alpha1*tloss1+alpha2*tloss2+alpha3*loss3\n",
    "                running_loss2.append(tloss.data[0])\n",
    "                _, tpredicted = torch.max(toutputs[index].data, 1)\n",
    "                test_correct += (tpredicted == tlabels.data).sum()\n",
    "                test_correct = test_correct/tlabels.size(0)*100\n",
    "                running_correct2.append(test_correct)\n",
    "        \n",
    "        \n",
    "            train_loss.append(np.mean(running_loss1))\n",
    "            test_loss.append(np.mean(running_loss2))\n",
    "            train_acc.append(np.mean(running_correct1))\n",
    "            test_acc.append(np.mean(running_correct2))\n",
    "        \n",
    "            #statistics\n",
    "            print('Epoch [%d/%d], Train Loss:%.3f, Val Loss:%.3f, Train Accuracy:%.3f percent, Val Accuracy:%.3f percent' \n",
    "                        %(epoch, num_epoch, train_loss[-1], test_loss[-1], train_acc[-1], test_acc[-1]))\n",
    "        \n",
    "        elif epoch%2 ==1:\n",
    "            #train gamma, and manually clip it \n",
    "            running_loss1 = []\n",
    "            running_loss2 = []\n",
    "            running_correct1=[]\n",
    "            running_correct2=[]\n",
    "            for i, data in enumerate(trainloader, 0):\n",
    "                correct = 0\n",
    "                net.train(True)\n",
    "                # get the inputs\n",
    "                inputs, labels = data\n",
    "                # wrap them in Variable\n",
    "                inputs, labels = Variable(inputs).type(dtype), Variable(labels).type(torch.cuda.LongTensor)\n",
    "                # zero the parameter gradients\n",
    "                optimizer2.zero_grad()\n",
    "                # forward + backward + optimize\n",
    "                outputs = net(inputs)\n",
    "                loss1 = criterion(outputs[0], labels) #idp-low\n",
    "                loss2 = criterion(outputs[1], labels) #idp-mid\n",
    "                loss3 = criterion(outputs[2], labels) #idp-high\n",
    "                loss = alpha1*loss1+alpha2*loss2+alpha3*loss3\n",
    "                loss.backward()\n",
    "                optimizer2.step()\n",
    "                # print statistics\n",
    "                # loss\n",
    "                running_loss1.append(loss.data[0])\n",
    "                # accuracy\n",
    "                _, predicted = torch.max(outputs[index].data, 1)\n",
    "                correct += (predicted == labels.data).sum()\n",
    "                correct = correct/labels.size(0)*100\n",
    "                running_correct1.append(correct)\n",
    "\n",
    "            for i, tdata in enumerate(valloader, 0):\n",
    "                test_correct = 0\n",
    "                net.train(False)\n",
    "                tinputs, tlabels = tdata\n",
    "                tinputs, tlabels = Variable(tinputs).type(dtype), Variable(tlabels).type(torch.cuda.LongTensor)\n",
    "                toutputs = net(tinputs)\n",
    "                tloss1 = criterion(toutputs[0], tlabels)\n",
    "                tloss2 = criterion(toutputs[1], tlabels)\n",
    "                tloss3 = criterion(toutputs[2], tlabels)\n",
    "                tloss = alpha1*tloss1+alpha2*tloss2+alpha3*loss3\n",
    "                running_loss2.append(tloss.data[0])\n",
    "                _, tpredicted = torch.max(toutputs[index].data, 1)\n",
    "                test_correct += (tpredicted == tlabels.data).sum()\n",
    "                test_correct = test_correct/tlabels.size(0)*100\n",
    "                running_correct2.append(test_correct)\n",
    "                \n",
    "            #clip weight manually\n",
    "            for i, (name, param) in enumerate(net.named_parameters()):\n",
    "                if name.endswith('2.coeff_tensor'):\n",
    "                    new_param = param.clone()\n",
    "                    for i in range(1, len(param)):\n",
    "                        new_param[i] = torch.clamp(new_param[i], max=new_param[i-1].data[0])\n",
    "                    param = new_param\n",
    "                    gamma1_history.append(param.data.cpu().numpy())\n",
    "                elif name.endswith('7.coeff_tensor'):\n",
    "                    new_param = param.clone()\n",
    "                    for i in range(1, len(param)):\n",
    "                        new_param[i] = torch.clamp(new_param[i], max=new_param[i-1].data[0])\n",
    "                    param = new_param\n",
    "                    gamma2_history.append(param.data.cpu().numpy())\n",
    "        \n",
    "            train_loss.append(np.mean(running_loss1))\n",
    "            test_loss.append(np.mean(running_loss2))\n",
    "            train_acc.append(np.mean(running_correct1))\n",
    "            test_acc.append(np.mean(running_correct2))\n",
    "\n",
    "            #statistics\n",
    "            print('Epoch [%d/%d], Train Loss:%.3f, Val Loss:%.3f, Train Accuracy:%.3f percent, Val Accuracy:%.3f percent' \n",
    "                        %(epoch, num_epoch, train_loss[-1], test_loss[-1], train_acc[-1], test_acc[-1]))\n",
    "        \n",
    "        #save model every 10 epoch\n",
    "        if epoch!=0 and epoch%10 ==0:\n",
    "            file = 'saved_models/'+str(epoch)+'_epoch_atp_tesla_linear_idp_model.pkl'\n",
    "            torch.save(net.state_dict(), file)\n",
    "        #early stopping\n",
    "        if epoch >= 3:\n",
    "            if (test_acc[-1]-test_acc[-2])<=0 and (test_acc[-1]-test_acc[-3])<=0 and (test_acc[-1]-test_acc[-4])<=0  and (test_acc[-1]-test_acc[-5])<=0:\n",
    "                print('Early stopping')\n",
    "                return train_loss, test_loss, train_acc, test_acc, gamma1_history, gamma2_history\n",
    "            else:\n",
    "                continue\n",
    "        \n",
    "    print('Finished Training')\n",
    "    return train_loss, test_loss, train_acc, test_acc, gamma1_history, gamma2_history"
   ]
  },
  {
   "cell_type": "code",
   "execution_count": 12,
   "metadata": {
    "collapsed": true
   },
   "outputs": [],
   "source": [
    "def train_tesla_3(num_epoch, net, criterion, optimizer, alpha1=0, alpha2=0, alpha3=1, index=2):\n",
    "    train_loss = []\n",
    "    test_loss = []\n",
    "    train_acc = []\n",
    "    test_acc = []\n",
    "\n",
    "    # start training\n",
    "    for epoch in range(num_epoch):  # loop over the dataset multiple times\n",
    "        running_loss1 = []\n",
    "        running_loss2 = []\n",
    "        running_correct1=[]\n",
    "        running_correct2=[]\n",
    "        for i, data in enumerate(trainloader, 0):\n",
    "            correct = 0\n",
    "            net.train(True)\n",
    "            # get the inputs\n",
    "            inputs, labels = data\n",
    "            # wrap them in Variable\n",
    "            inputs, labels = Variable(inputs).type(dtype), Variable(labels).type(torch.cuda.LongTensor)\n",
    "            # zero the parameter gradients\n",
    "            optimizer.zero_grad()\n",
    "            # forward + backward + optimize\n",
    "            outputs = net(inputs)\n",
    "            loss1 = criterion(outputs[0], labels) #idp-low\n",
    "            loss2 = criterion(outputs[1], labels) #idp-mid\n",
    "            loss3 = criterion(outputs[2], labels) #idp-high\n",
    "            \n",
    "            loss = alpha1*loss1+alpha2*loss2+alpha3*loss3\n",
    "            \n",
    "            loss.backward()\n",
    "            optimizer.step()\n",
    "            # print statistics\n",
    "            # loss\n",
    "            running_loss1.append(loss.data[0])\n",
    "            # accuracy\n",
    "            _, predicted = torch.max(outputs[index].data, 1)\n",
    "            correct += (predicted == labels.data).sum()\n",
    "            correct = correct/labels.size(0)*100\n",
    "            running_correct1.append(correct)\n",
    "\n",
    "        for i, tdata in enumerate(valloader, 0):\n",
    "            test_correct = 0\n",
    "            net.train(False)\n",
    "            tinputs, tlabels = tdata\n",
    "            tinputs, tlabels = Variable(tinputs).type(dtype), Variable(tlabels).type(torch.cuda.LongTensor)\n",
    "            toutputs = net(tinputs)\n",
    "            tloss1 = criterion(toutputs[0], tlabels)\n",
    "            tloss2 = criterion(toutputs[1], tlabels)\n",
    "            tloss3 = criterion(toutputs[2], tlabels)\n",
    "            \n",
    "            tloss = alpha1*tloss1+alpha2*tloss2+alpha3*loss3\n",
    "            \n",
    "            running_loss2.append(tloss.data[0])\n",
    "            _, tpredicted = torch.max(toutputs[index].data, 1)\n",
    "            test_correct += (tpredicted == tlabels.data).sum()\n",
    "            test_correct = test_correct/tlabels.size(0)*100\n",
    "            running_correct2.append(test_correct)\n",
    "\n",
    "        train_loss.append(np.mean(running_loss1))\n",
    "        test_loss.append(np.mean(running_loss2))\n",
    "        train_acc.append(np.mean(running_correct1))\n",
    "        test_acc.append(np.mean(running_correct2))\n",
    "\n",
    "        #statistics\n",
    "        print('Epoch [%d/%d], Train Loss:%.3f, Val Loss:%.3f, Train Accuracy:%.3f percent, Val Accuracy:%.3f percent' \n",
    "                    %(epoch, num_epoch, train_loss[-1], test_loss[-1], train_acc[-1], test_acc[-1]))\n",
    "        #save model every 10 epoch\n",
    "        if epoch!=0 and epoch%10 ==0:\n",
    "            file = 'saved_models/'+str(epoch)+'_epoch_atp_tesla_linear_idp_model.pkl'\n",
    "            torch.save(net.state_dict(), file)\n",
    "        #early stopping\n",
    "        if epoch >= 4:\n",
    "            if (test_acc[-1] - test_acc[-2]) <=0 and (test_acc[-1] - test_acc[-3]) <= 0 and (test_acc[-1] - test_acc[-4]) <= 0:\n",
    "                print('Early stopping')\n",
    "                return train_loss, test_loss, train_acc, test_acc\n",
    "            else:\n",
    "                continue\n",
    "        \n",
    "    print('Finished Training')\n",
    "    return train_loss, test_loss, train_acc, test_acc"
   ]
  },
  {
   "cell_type": "code",
   "execution_count": 13,
   "metadata": {},
   "outputs": [],
   "source": [
    "# define models, optimizers, training\n",
    "idp_ranges = [0.1, 0.3, 1]\n",
    "all_train_loss = []\n",
    "all_test_loss = []\n",
    "all_train_acc = []\n",
    "all_test_acc = []\n",
    "gamma1_history = []\n",
    "gamma2_history = []\n",
    "\n",
    "criterion = nn.CrossEntropyLoss()\n",
    "\n",
    "idp_layers = {1,4}\n",
    "net = atp_tesla_coef_idp_lenet_3branch(idp_layers, lenet, idp1=idp_ranges[0], idp2=idp_ranges[1], idp3=idp_ranges[2]).type(dtype)"
   ]
  },
  {
   "cell_type": "code",
   "execution_count": 14,
   "metadata": {},
   "outputs": [
    {
     "name": "stdout",
     "output_type": "stream",
     "text": [
      "torch.Size([32, 10])\n",
      "torch.Size([32, 10])\n",
      "torch.Size([32, 10])\n"
     ]
    }
   ],
   "source": [
    "x = Variable(torch.randn(32, 1, 28, 28)).type(dtype)\n",
    "out = net(x)\n",
    "print(out[0].size())\n",
    "print(out[1].size())\n",
    "print(out[2].size())"
   ]
  },
  {
   "cell_type": "code",
   "execution_count": 15,
   "metadata": {},
   "outputs": [
    {
     "name": "stdout",
     "output_type": "stream",
     "text": [
      "features.0.weight torch.Size([16, 1, 5, 5])\n",
      "features.0.bias torch.Size([16])\n",
      "features.2.coeff_tensor torch.Size([16])\n",
      "features.5.weight torch.Size([32, 16, 5, 5])\n",
      "features.5.bias torch.Size([32])\n",
      "features.7.coeff_tensor torch.Size([32])\n",
      "classifier.0.weight torch.Size([120, 800])\n",
      "classifier.0.bias torch.Size([120])\n",
      "classifier.2.weight torch.Size([84, 120])\n",
      "classifier.2.bias torch.Size([84])\n",
      "classifier.4.weight torch.Size([10, 84])\n",
      "classifier.4.bias torch.Size([10])\n"
     ]
    }
   ],
   "source": [
    "for i, (name, param) in enumerate(net.named_parameters()):\n",
    "    print(name, param.size())"
   ]
  },
  {
   "cell_type": "code",
   "execution_count": 16,
   "metadata": {},
   "outputs": [
    {
     "name": "stdout",
     "output_type": "stream",
     "text": [
      "12\n",
      "10\n",
      "2\n",
      "train with idp3\n",
      "Epoch [0/50], Train Loss:0.533, Val Loss:0.089, Train Accuracy:83.845 percent, Val Accuracy:95.064 percent\n",
      "Epoch [1/50], Train Loss:0.126, Val Loss:0.052, Train Accuracy:96.232 percent, Val Accuracy:95.362 percent\n",
      "Epoch [2/50], Train Loss:0.099, Val Loss:0.074, Train Accuracy:97.007 percent, Val Accuracy:96.895 percent\n",
      "Epoch [3/50], Train Loss:0.075, Val Loss:0.021, Train Accuracy:97.727 percent, Val Accuracy:97.313 percent\n",
      "Epoch [4/50], Train Loss:0.069, Val Loss:0.082, Train Accuracy:97.907 percent, Val Accuracy:97.930 percent\n",
      "Epoch [5/50], Train Loss:0.052, Val Loss:0.143, Train Accuracy:98.423 percent, Val Accuracy:97.870 percent\n",
      "Epoch [6/50], Train Loss:0.054, Val Loss:0.039, Train Accuracy:98.340 percent, Val Accuracy:97.950 percent\n",
      "Epoch [7/50], Train Loss:0.045, Val Loss:0.021, Train Accuracy:98.625 percent, Val Accuracy:98.109 percent\n",
      "Epoch [8/50], Train Loss:0.045, Val Loss:0.032, Train Accuracy:98.552 percent, Val Accuracy:98.209 percent\n",
      "Epoch [9/50], Train Loss:0.037, Val Loss:0.009, Train Accuracy:98.873 percent, Val Accuracy:98.368 percent\n",
      "Epoch [10/50], Train Loss:0.039, Val Loss:0.110, Train Accuracy:98.782 percent, Val Accuracy:98.447 percent\n",
      "Epoch [11/50], Train Loss:0.032, Val Loss:0.055, Train Accuracy:99.007 percent, Val Accuracy:98.447 percent\n",
      "Epoch [12/50], Train Loss:0.033, Val Loss:0.004, Train Accuracy:98.978 percent, Val Accuracy:98.229 percent\n",
      "Epoch [13/50], Train Loss:0.026, Val Loss:0.035, Train Accuracy:99.240 percent, Val Accuracy:98.447 percent\n",
      "Epoch [14/50], Train Loss:0.030, Val Loss:0.046, Train Accuracy:99.073 percent, Val Accuracy:98.587 percent\n",
      "Epoch [15/50], Train Loss:0.026, Val Loss:0.002, Train Accuracy:99.160 percent, Val Accuracy:98.646 percent\n",
      "Epoch [16/50], Train Loss:0.027, Val Loss:0.007, Train Accuracy:99.145 percent, Val Accuracy:98.288 percent\n",
      "Epoch [17/50], Train Loss:0.020, Val Loss:0.023, Train Accuracy:99.435 percent, Val Accuracy:98.447 percent\n",
      "Epoch [18/50], Train Loss:0.024, Val Loss:0.001, Train Accuracy:99.255 percent, Val Accuracy:98.428 percent\n",
      "Epoch [19/50], Train Loss:0.021, Val Loss:0.002, Train Accuracy:99.318 percent, Val Accuracy:98.507 percent\n",
      "Epoch [20/50], Train Loss:0.021, Val Loss:0.001, Train Accuracy:99.315 percent, Val Accuracy:98.467 percent\n",
      "Epoch [21/50], Train Loss:0.015, Val Loss:0.028, Train Accuracy:99.552 percent, Val Accuracy:98.567 percent\n",
      "Epoch [22/50], Train Loss:0.018, Val Loss:0.008, Train Accuracy:99.432 percent, Val Accuracy:98.487 percent\n",
      "Epoch [23/50], Train Loss:0.014, Val Loss:0.015, Train Accuracy:99.592 percent, Val Accuracy:98.567 percent\n",
      "Epoch [24/50], Train Loss:0.017, Val Loss:0.007, Train Accuracy:99.462 percent, Val Accuracy:98.268 percent\n",
      "Early stopping\n",
      "train with idp3 again\n",
      "Epoch [0/15], Train Loss:0.015, Val Loss:0.017, Train Accuracy:99.547 percent, Val Accuracy:98.607 percent\n",
      "Epoch [1/15], Train Loss:0.013, Val Loss:0.028, Train Accuracy:99.600 percent, Val Accuracy:98.229 percent\n",
      "Epoch [2/15], Train Loss:0.013, Val Loss:0.001, Train Accuracy:99.603 percent, Val Accuracy:98.726 percent\n",
      "Epoch [3/15], Train Loss:0.011, Val Loss:0.000, Train Accuracy:99.643 percent, Val Accuracy:98.905 percent\n",
      "Epoch [4/15], Train Loss:0.010, Val Loss:0.005, Train Accuracy:99.660 percent, Val Accuracy:98.766 percent\n",
      "Epoch [5/15], Train Loss:0.009, Val Loss:0.009, Train Accuracy:99.700 percent, Val Accuracy:98.746 percent\n",
      "Epoch [6/15], Train Loss:0.008, Val Loss:0.015, Train Accuracy:99.768 percent, Val Accuracy:98.905 percent\n",
      "Epoch [7/15], Train Loss:0.007, Val Loss:0.002, Train Accuracy:99.790 percent, Val Accuracy:98.547 percent\n",
      "Early stopping\n",
      "train with idp2\n",
      "Epoch [0/15], Train Loss:0.065, Val Loss:0.041, Train Accuracy:96.658 percent, Val Accuracy:97.412 percent\n",
      "Epoch [1/15], Train Loss:0.032, Val Loss:0.038, Train Accuracy:98.300 percent, Val Accuracy:97.492 percent\n",
      "Epoch [2/15], Train Loss:0.025, Val Loss:0.030, Train Accuracy:98.655 percent, Val Accuracy:98.089 percent\n",
      "Epoch [3/15], Train Loss:0.022, Val Loss:0.029, Train Accuracy:98.832 percent, Val Accuracy:97.970 percent\n",
      "Epoch [4/15], Train Loss:0.020, Val Loss:0.038, Train Accuracy:98.972 percent, Val Accuracy:97.870 percent\n",
      "Epoch [5/15], Train Loss:0.018, Val Loss:0.028, Train Accuracy:99.030 percent, Val Accuracy:98.169 percent\n",
      "Epoch [6/15], Train Loss:0.016, Val Loss:0.047, Train Accuracy:99.163 percent, Val Accuracy:98.109 percent\n",
      "Epoch [7/15], Train Loss:0.014, Val Loss:0.027, Train Accuracy:99.243 percent, Val Accuracy:98.149 percent\n",
      "Epoch [8/15], Train Loss:0.013, Val Loss:0.027, Train Accuracy:99.295 percent, Val Accuracy:98.348 percent\n",
      "Epoch [9/15], Train Loss:0.012, Val Loss:0.027, Train Accuracy:99.382 percent, Val Accuracy:98.189 percent\n",
      "Epoch [10/15], Train Loss:0.011, Val Loss:0.026, Train Accuracy:99.407 percent, Val Accuracy:98.308 percent\n",
      "Epoch [11/15], Train Loss:0.010, Val Loss:0.022, Train Accuracy:99.462 percent, Val Accuracy:98.547 percent\n",
      "Epoch [12/15], Train Loss:0.010, Val Loss:0.027, Train Accuracy:99.482 percent, Val Accuracy:98.209 percent\n",
      "Epoch [13/15], Train Loss:0.008, Val Loss:0.029, Train Accuracy:99.512 percent, Val Accuracy:98.069 percent\n",
      "Early stopping\n",
      "train with idp1\n",
      "Epoch [0/15], Train Loss:0.092, Val Loss:0.093, Train Accuracy:94.848 percent, Val Accuracy:95.084 percent\n",
      "Epoch [1/15], Train Loss:0.059, Val Loss:0.075, Train Accuracy:96.710 percent, Val Accuracy:96.198 percent\n",
      "Epoch [2/15], Train Loss:0.052, Val Loss:0.078, Train Accuracy:97.105 percent, Val Accuracy:96.079 percent\n",
      "Epoch [3/15], Train Loss:0.046, Val Loss:0.081, Train Accuracy:97.420 percent, Val Accuracy:96.079 percent\n",
      "Epoch [4/15], Train Loss:0.042, Val Loss:0.063, Train Accuracy:97.638 percent, Val Accuracy:96.875 percent\n",
      "Epoch [5/15], Train Loss:0.040, Val Loss:0.097, Train Accuracy:97.832 percent, Val Accuracy:95.541 percent\n",
      "Early stopping\n"
     ]
    }
   ],
   "source": [
    "params_w_b = []\n",
    "params_gamma = []\n",
    "\n",
    "for i, (name, param) in enumerate(net.named_parameters()):\n",
    "    if name.endswith('coeff_tensor'):\n",
    "        params_gamma.append(param)\n",
    "    else:\n",
    "        params_w_b.append(param)\n",
    "\n",
    "print(len(list(net.parameters())))\n",
    "print(len(params_w_b))\n",
    "print(len(params_gamma))\n",
    "\n",
    "optimizer1 = optim.SGD(params_w_b, lr=learning_rate, momentum=momentum)\n",
    "optimizer2 = optim.SGD(params_gamma, lr=learning_rate/2, momentum=momentum)\n",
    "\n",
    "\n",
    "for index in range(0, len(idp_ranges)+1):\n",
    "    if index == 0:\n",
    "        print('train with idp3')\n",
    "        train_loss, test_loss, train_acc, test_acc, g1_history, g2_history = atp_train_tesla_3(num_epoch_atp, net, criterion, optimizer1,\n",
    "                                                                 optimizer2, alpha1=0, alpha2=0, alpha3=1, index=2)\n",
    "        all_train_loss.extend(train_loss)\n",
    "        all_test_loss.extend(test_loss)\n",
    "        all_train_acc.extend(train_acc)\n",
    "        all_test_acc.extend(test_acc)\n",
    "        gamma1_history.extend(g1_history)\n",
    "        gamma2_history.extend(g2_history)\n",
    "    elif index ==1:\n",
    "        print('train with idp3 again')\n",
    "        train_loss, test_loss, train_acc, test_acc = train_tesla_3(num_epoch, net, criterion, optimizer1,\n",
    "                                                                 alpha1=0, alpha2=0, alpha3=1, index=2)        \n",
    "        all_train_loss.extend(train_loss)\n",
    "        all_test_loss.extend(test_loss)\n",
    "        all_train_acc.extend(train_acc)\n",
    "        all_test_acc.extend(test_acc)\n",
    "    elif index ==2:\n",
    "        print('train with idp2')\n",
    "        train_loss, test_loss, train_acc, test_acc = train_tesla_3(num_epoch, net, criterion, optimizer1,\n",
    "                                                                 alpha1=0, alpha2=0.5, alpha3=0.5, index=1)        \n",
    "        all_train_loss.extend(train_loss)\n",
    "        all_test_loss.extend(test_loss)\n",
    "        all_train_acc.extend(train_acc)\n",
    "        all_test_acc.extend(test_acc)\n",
    "    else:\n",
    "        print('train with idp1')\n",
    "        train_loss, test_loss, train_acc, test_acc = train_tesla_3(num_epoch, net, criterion, optimizer1,\n",
    "                                                                  alpha1=0.5, alpha2=0.25, alpha3=0.25, index=0)        \n",
    "        all_train_loss.extend(train_loss)\n",
    "        all_test_loss.extend(test_loss)\n",
    "        all_train_acc.extend(train_acc)\n",
    "        all_test_acc.extend(test_acc)"
   ]
  },
  {
   "cell_type": "code",
   "execution_count": 17,
   "metadata": {
    "collapsed": true
   },
   "outputs": [],
   "source": [
    "# Save the Model\n",
    "torch.save(net.state_dict(), 'saved_models/mnist_atp_100_30_10_tesla_3branch_idp_model.pkl')"
   ]
  },
  {
   "cell_type": "code",
   "execution_count": 18,
   "metadata": {},
   "outputs": [
    {
     "data": {
      "text/plain": [
       "<matplotlib.figure.Figure at 0x7f20849510f0>"
      ]
     },
     "metadata": {},
     "output_type": "display_data"
    },
    {
     "data": {
      "image/png": "[encoded data removed]",
      "text/plain": [
       "<matplotlib.figure.Figure at 0x7f2084951fd0>"
      ]
     },
     "metadata": {},
     "output_type": "display_data"
    }
   ],
   "source": [
    "plot_losses(all_train_loss, all_test_loss)"
   ]
  },
  {
   "cell_type": "code",
   "execution_count": 19,
   "metadata": {},
   "outputs": [
    {
     "data": {
      "text/plain": [
       "<matplotlib.figure.Figure at 0x7f2084951048>"
      ]
     },
     "metadata": {},
     "output_type": "display_data"
    },
    {
     "data": {
      "image/png": "[encoded data removed]",
      "text/plain": [
       "<matplotlib.figure.Figure at 0x7f2078d2f4a8>"
      ]
     },
     "metadata": {},
     "output_type": "display_data"
    }
   ],
   "source": [
    "plot_accuracy(all_train_acc, all_test_acc)"
   ]
  },
  {
   "cell_type": "code",
   "execution_count": 20,
   "metadata": {
    "collapsed": true
   },
   "outputs": [],
   "source": [
    "# Load the trained model\n",
    "net.load_state_dict(torch.load('saved_models/mnist_atp_100_30_10_tesla_3branch_idp_model.pkl'))"
   ]
  },
  {
   "cell_type": "code",
   "execution_count": 21,
   "metadata": {},
   "outputs": [
    {
     "name": "stdout",
     "output_type": "stream",
     "text": [
      "Accuracy of the network with IDP 100 on the test images: 99 %\n"
     ]
    },
    {
     "data": {
      "text/plain": [
       "99.4"
      ]
     },
     "execution_count": 21,
     "metadata": {},
     "output_type": "execute_result"
    }
   ],
   "source": [
    "def test_acccuracy(testloader, model):\n",
    "    correct = 0\n",
    "    total = 0\n",
    "    for data in testloader:\n",
    "        images, labels = data\n",
    "        outputs1, outputs2, outputs3 = model.forward(Variable(images, volatile=True).type(dtype))\n",
    "        labels = Variable(labels, volatile=True).type(torch.cuda.LongTensor)\n",
    "        _, predicted = torch.max(outputs3.data, 1)\n",
    "        total += labels.size(0)\n",
    "        correct += (predicted == labels.data).sum()\n",
    "    acc = 100*correct/total\n",
    "    print('Accuracy of the network with IDP 100 on the test images: %d %%' % (acc))\n",
    "    return acc\n",
    "\n",
    "test_acccuracy(testloader, net.eval())"
   ]
  },
  {
   "cell_type": "code",
   "execution_count": 22,
   "metadata": {},
   "outputs": [
    {
     "name": "stdout",
     "output_type": "stream",
     "text": [
      "[0.1, 0.15, 0.2, 0.25, 0.3, 0.35, 0.4, 0.45, 0.5, 0.55, 0.6, 0.65, 0.7, 0.75, 0.8, 0.85, 0.9, 0.95, 1.0]\n",
      "Accuracy of the network with IDP 100 on the test images: 97 %\n",
      "Accuracy of the network with IDP 100 on the test images: 95 %\n",
      "Accuracy of the network with IDP 100 on the test images: 92 %\n",
      "Accuracy of the network with IDP 100 on the test images: 99 %\n",
      "Accuracy of the network with IDP 100 on the test images: 99 %\n",
      "Accuracy of the network with IDP 100 on the test images: 98 %\n",
      "Accuracy of the network with IDP 100 on the test images: 98 %\n",
      "Accuracy of the network with IDP 100 on the test images: 98 %\n",
      "Accuracy of the network with IDP 100 on the test images: 98 %\n",
      "Accuracy of the network with IDP 100 on the test images: 98 %\n",
      "Accuracy of the network with IDP 100 on the test images: 98 %\n",
      "Accuracy of the network with IDP 100 on the test images: 98 %\n",
      "Accuracy of the network with IDP 100 on the test images: 98 %\n",
      "Accuracy of the network with IDP 100 on the test images: 98 %\n",
      "Accuracy of the network with IDP 100 on the test images: 98 %\n",
      "Accuracy of the network with IDP 100 on the test images: 98 %\n",
      "Accuracy of the network with IDP 100 on the test images: 99 %\n",
      "Accuracy of the network with IDP 100 on the test images: 97 %\n",
      "Accuracy of the network with IDP 100 on the test images: 99 %\n"
     ]
    }
   ],
   "source": [
    "idp_acc_history = []\n",
    "idp_harmonic_history = [0]*20\n",
    "\n",
    "idp_scale = list(map(lambda x: x/20,range(2,21)))\n",
    "print(idp_scale)\n",
    "for i in idp_scale:\n",
    "    net_inference = atp_tesla_coef_idp_lenet_3branch(idp_layers, lenet, idp1=1, idp2=1, idp3=i).type(dtype)\n",
    "    net_inference.load_state_dict(torch.load('saved_models/mnist_atp_100_30_10_tesla_3branch_idp_model.pkl'))\n",
    "    a = test_acccuracy(testloader, net_inference.eval())\n",
    "    idp_acc_history.append(a)"
   ]
  },
  {
   "cell_type": "code",
   "execution_count": 23,
   "metadata": {},
   "outputs": [
    {
     "data": {
      "text/plain": [
       "[97.44,\n",
       " 95.54,\n",
       " 92.7,\n",
       " 99.1,\n",
       " 99.0,\n",
       " 98.68,\n",
       " 98.82,\n",
       " 98.72,\n",
       " 98.18,\n",
       " 98.06,\n",
       " 98.4,\n",
       " 98.4,\n",
       " 98.78,\n",
       " 98.9,\n",
       " 98.76,\n",
       " 98.98,\n",
       " 99.0,\n",
       " 97.98,\n",
       " 99.4]"
      ]
     },
     "execution_count": 23,
     "metadata": {},
     "output_type": "execute_result"
    }
   ],
   "source": [
    "idp_acc_history"
   ]
  },
  {
   "cell_type": "code",
   "execution_count": 27,
   "metadata": {
    "collapsed": true
   },
   "outputs": [],
   "source": [
    "atp_100_50_10 = [98.72,\n",
    " 90.98,\n",
    " 64.84,\n",
    " 66.54,\n",
    " 68.58,\n",
    " 70.76,\n",
    " 56.7,\n",
    " 66.74,\n",
    " 99.38,\n",
    " 99.28,\n",
    " 99.14,\n",
    " 99.02,\n",
    " 98.62,\n",
    " 99.1,\n",
    " 99.1,\n",
    " 99.24,\n",
    " 99.18,\n",
    " 99.48,\n",
    " 99.58]"
   ]
  },
  {
   "cell_type": "code",
   "execution_count": 29,
   "metadata": {
    "collapsed": true
   },
   "outputs": [],
   "source": [
    "def plot_idp_accuracy(accuracy1=None, accuracy2=None):\n",
    "    plt.clf()\n",
    "    fig3 = plt.figure()\n",
    "    ax1 = fig3.add_subplot(111)\n",
    "    idp_scale = list(map(lambda x: x/20,range(2,21)))\n",
    "    idp_scale_i = [i for i in range(0, len(idp_scale))]\n",
    "    if accuracy1:\n",
    "        ax1.plot(idp_scale_i, accuracy1, marker='o', linestyle='-', color='r', label=\"atp-100-30-10\")\n",
    "    if accuracy2:\n",
    "        ax1.plot(idp_scale_i, accuracy2, marker='o', linestyle='-', color='g', label=\"atp-100-50-10\")\n",
    "    plt.xticks(idp_scale_i, idp_scale)\n",
    "    plt.xlabel(\"ATP-IDP\") \n",
    "    plt.ylabel(\"Accuracy(%)\")\n",
    "    plt.legend(bbox_to_anchor=(1.05, 1), loc=2, borderaxespad=0.)\n",
    "    plt.title(\"ATP-Lenet5 (MNIST)\")"
   ]
  },
  {
   "cell_type": "code",
   "execution_count": 30,
   "metadata": {},
   "outputs": [
    {
     "data": {
      "text/plain": [
       "<matplotlib.figure.Figure at 0x7f2078b17080>"
      ]
     },
     "metadata": {},
     "output_type": "display_data"
    },
    {
     "data": {
      "image/png": "[encoded data removed]",
      "text/plain": [
       "<matplotlib.figure.Figure at 0x7f2078af5438>"
      ]
     },
     "metadata": {},
     "output_type": "display_data"
    }
   ],
   "source": [
    "plot_idp_accuracy(idp_acc_history, atp_100_50_10)"
   ]
  },
  {
   "cell_type": "code",
   "execution_count": 31,
   "metadata": {},
   "outputs": [
    {
     "data": {
      "text/plain": [
       "array([ 1.34105968,  0.9327364 ,  0.9327364 ,  0.9327364 ,  0.9327364 ,\n",
       "        0.9327364 ,  0.9327364 ,  0.9327364 ,  0.9327364 ,  0.9327364 ,\n",
       "        0.9327364 ,  0.9327364 ,  0.90740663,  0.90740663,  0.90740663,\n",
       "        0.65693974], dtype=float32)"
      ]
     },
     "execution_count": 31,
     "metadata": {},
     "output_type": "execute_result"
    }
   ],
   "source": [
    "g1_history[-1]"
   ]
  },
  {
   "cell_type": "code",
   "execution_count": 32,
   "metadata": {},
   "outputs": [
    {
     "data": {
      "text/plain": [
       "array([ 0.74590838,  0.74590838,  0.74590838,  0.74590838,  0.74590838,\n",
       "        0.74590838,  0.74590838,  0.74590838,  0.74590838,  0.74590838,\n",
       "        0.74590838,  0.74590838,  0.74590838,  0.74590838,  0.74590838,\n",
       "        0.74590838,  0.74590838,  0.74590838,  0.74590838,  0.74590838,\n",
       "        0.74590838,  0.74590838,  0.74590838,  0.74590838,  0.74590838,\n",
       "        0.74590838,  0.74590838,  0.74590838,  0.74590838,  0.74590838,\n",
       "        0.74590838,  0.74590838], dtype=float32)"
      ]
     },
     "execution_count": 32,
     "metadata": {},
     "output_type": "execute_result"
    }
   ],
   "source": [
    "g2_history[-1]"
   ]
  },
  {
   "cell_type": "code",
   "execution_count": 33,
   "metadata": {},
   "outputs": [
    {
     "data": {
      "image/png": "[encoded data removed]",
      "text/plain": [
       "<matplotlib.figure.Figure at 0x7f2078b17208>"
      ]
     },
     "metadata": {},
     "output_type": "display_data"
    }
   ],
   "source": [
    "plt.plot(g1_history[-1])\n",
    "plt.show()"
   ]
  },
  {
   "cell_type": "code",
   "execution_count": 41,
   "metadata": {},
   "outputs": [
    {
     "data": {
      "image/png": "[encoded data removed]",
      "text/plain": [
       "<matplotlib.figure.Figure at 0x7f207880a080>"
      ]
     },
     "metadata": {},
     "output_type": "display_data"
    }
   ],
   "source": [
    "plt.plot(g2_history[-1])\n",
    "plt.show()"
   ]
  },
  {
   "cell_type": "code",
   "execution_count": null,
   "metadata": {
    "collapsed": true
   },
   "outputs": [],
   "source": []
  }
 ],
 "metadata": {
  "kernelspec": {
   "display_name": "Python 3",
   "language": "python",
   "name": "python3"
  },
  "language_info": {
   "codemirror_mode": {
    "name": "ipython",
    "version": 3
   },
   "file_extension": ".py",
   "mimetype": "text/x-python",
   "name": "python",
   "nbconvert_exporter": "python",
   "pygments_lexer": "ipython3",
   "version": "3.6.2"
  }
 },
 "nbformat": 4,
 "nbformat_minor": 2
}
