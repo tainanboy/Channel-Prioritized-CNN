{
 "cells": [
  {
   "cell_type": "code",
   "execution_count": 9,
   "metadata": {
    "collapsed": true
   },
   "outputs": [],
   "source": [
    "import torch\n",
    "from torch.autograd import Variable\n",
    "import torch.nn as nn\n",
    "import torch.nn.functional as F\n",
    "import torch.optim as optim\n",
    "import torchvision\n",
    "import torchvision.transforms as transforms\n",
    "import torchvision.models as models\n",
    "from torch.utils.data import sampler\n",
    "import math\n",
    "import os\n",
    "os.environ[\"CUDA_VISIBLE_DEVICES\"] = \"1\"\n",
    "import matplotlib.pyplot as plt\n",
    "%matplotlib inline\n",
    "import numpy as np"
   ]
  },
  {
   "cell_type": "code",
   "execution_count": 10,
   "metadata": {},
   "outputs": [
    {
     "name": "stdout",
     "output_type": "stream",
     "text": [
      "1\n",
      "True\n"
     ]
    }
   ],
   "source": [
    "#torch.cuda.set_device(0)\n",
    "# specify dtype\n",
    "use_cuda = torch.cuda.is_available()\n",
    "if use_cuda:\n",
    "    dtype = torch.cuda.FloatTensor\n",
    "else:\n",
    "    dtype = torch.FloatTensor\n",
    "print(torch.cuda.device_count())\n",
    "print(use_cuda)"
   ]
  },
  {
   "cell_type": "code",
   "execution_count": 11,
   "metadata": {
    "collapsed": true
   },
   "outputs": [],
   "source": [
    "# Hyperparameters\n",
    "batch_size = 32\n",
    "learning_rate = 4e-3\n",
    "momentum = 0.9\n",
    "num_epoch = 10"
   ]
  },
  {
   "cell_type": "code",
   "execution_count": 30,
   "metadata": {},
   "outputs": [
    {
     "name": "stdout",
     "output_type": "stream",
     "text": [
      "Files already downloaded and verified\n",
      "Files already downloaded and verified\n",
      "Files already downloaded and verified\n",
      "50000\n",
      "10000\n",
      "10000\n"
     ]
    }
   ],
   "source": [
    "# Data\n",
    "class ChunkSampler(sampler.Sampler):\n",
    "    \"\"\"Samples elements sequentially from some offset. \n",
    "    Arguments:\n",
    "        num_samples: # of desired datapoints\n",
    "        start: offset where we should start selecting from\n",
    "    \"\"\"\n",
    "    def __init__(self, num_samples, start = 0):\n",
    "        self.num_samples = num_samples\n",
    "        self.start = start\n",
    "\n",
    "    def __iter__(self):\n",
    "        return iter(range(self.start, self.start + self.num_samples))\n",
    "\n",
    "    def __len__(self):\n",
    "        return self.num_samples\n",
    "\n",
    "data_path = '/data/put_data/frank840925/IDP/data'\n",
    "transform = transforms.Compose(\n",
    "    [transforms.ToTensor(),\n",
    "     transforms.Normalize((0.485, 0.456, 0.406), (0.229, 0.224, 0.225))])\n",
    "\n",
    "trainset = torchvision.datasets.CIFAR10(root=data_path, \n",
    "                                        train=True, download=True, transform=transform)\n",
    "trainloader = torch.utils.data.DataLoader(trainset, batch_size=batch_size, shuffle=True, \n",
    "                                          num_workers=3)\n",
    "\n",
    "valset = torchvision.datasets.CIFAR10(root=data_path, \n",
    "                                       train=False, download=True, transform=transform)\n",
    "valloader = torch.utils.data.DataLoader(valset, batch_size=batch_size, shuffle=False, sampler=ChunkSampler(5000,0), \n",
    "                                        num_workers=3)\n",
    "\n",
    "testset = torchvision.datasets.CIFAR10(root=data_path, \n",
    "                                       train=False, download=True, transform=transform)\n",
    "testloader = torch.utils.data.DataLoader(testset, batch_size=batch_size, shuffle=False, sampler=ChunkSampler(5000,5000),\n",
    "                                        num_workers=3)\n",
    "\n",
    "print(trainset.__len__())\n",
    "print(valset.__len__())\n",
    "print(testset.__len__())"
   ]
  },
  {
   "cell_type": "code",
   "execution_count": 31,
   "metadata": {},
   "outputs": [],
   "source": [
    "# Helper functions\n",
    "# functions to show an image\n",
    "def imshow(img):\n",
    "    img = img / 2 + 0.5     # unnormalize\n",
    "    npimg = img.numpy()\n",
    "    plt.imshow(np.transpose(npimg, (1, 2, 0)))\n",
    "\n",
    "def plot_losses(loss_history1=None, loss_history2=None):\n",
    "    plt.clf()\n",
    "    fig = plt.figure()\n",
    "    ax1 = fig.add_subplot(111)\n",
    "    if loss_history1:\n",
    "        ax1.plot(loss_history1, color=\"blue\", label=\"train\")\n",
    "    if loss_history2:\n",
    "        ax1.plot(loss_history2, color=\"green\", label=\"test\")\n",
    "    #ax2 = ax1.twinx()\n",
    "    #ax2.set_yscale('log')\n",
    "    plt.xlabel(\"epoch\") \n",
    "    plt.ylabel(\"loss\") \n",
    "    plt.legend(bbox_to_anchor=(1.05, 1), loc=2, borderaxespad=0.)\n",
    "    plt.title(\"Cross-entropy loss\")\n",
    "    #plt.savefig('output_losses.png')\n",
    "\n",
    "def plot_accuracy(accuracy1=None, accuracy2=None):\n",
    "    plt.clf()\n",
    "    fig2 = plt.figure()\n",
    "    ax1 = fig2.add_subplot(111)\n",
    "    if accuracy1:\n",
    "        ax1.plot(accuracy1, color=\"red\", label=\"train\")\n",
    "    if accuracy2:\n",
    "        ax1.plot(accuracy2, color=\"black\", label=\"val\")\n",
    "    plt.xlabel(\"epoch\") \n",
    "    plt.ylabel(\"accuracy\")\n",
    "    plt.legend(bbox_to_anchor=(1.05, 1), loc=2, borderaxespad=0.)\n",
    "    plt.title(\"Train/Val accuracy\") \n",
    "    #plt.savefig('accuracy.png')\n",
    "\n",
    "# get some random training images\n",
    "#dataiter = iter(trainloader)\n",
    "#images, labels = dataiter.next()\n",
    "#print(images.shape)"
   ]
  },
  {
   "cell_type": "code",
   "execution_count": 32,
   "metadata": {
    "collapsed": true
   },
   "outputs": [],
   "source": [
    "# self-defined modules(layers)\n",
    "class Flatten(nn.Module):\n",
    "    def forward(self, x):\n",
    "        # read in N, C, H, W\n",
    "        N, C, H, W = x.size()\n",
    "        # flatten the C * H * W values into a single vector per image\n",
    "        return x.view(N, -1)  \n",
    "    \n",
    "class idp_tensor(nn.Module):\n",
    "    def __init__(self, idp):\n",
    "        super(idp_tensor, self).__init__()\n",
    "        self.idp = idp\n",
    "    def forward(self, c):\n",
    "        #c is an input tensor, size N*C*H*W\n",
    "        N, C, H, W = c.size()\n",
    "        non_zero_channel = int(C*(self.idp))\n",
    "        if C-non_zero_channel > 0:\n",
    "            zeros = Variable(torch.zeros(N, C-non_zero_channel, H, W)).type(dtype)\n",
    "            c = torch.cat([c[:, :non_zero_channel, :, :].clone(), zeros], 1).type(dtype)\n",
    "            #c[:, non_zero_channel:, :, :] = zeros\n",
    "            return c\n",
    "        else:\n",
    "            return c\n",
    "        \n",
    "class first_idp_tensor(nn.Module):\n",
    "    def __init__(self, idp1=0.5, idp2=1):\n",
    "        super(first_idp_tensor, self).__init__()\n",
    "        self.idp1 = idp1\n",
    "        self.idp2 = idp2\n",
    "    def forward(self, c):\n",
    "        #input the first conv-Relu-Linear output, N*C*H*W, replicate and concat in first dim (N), \n",
    "        #first half apply IDP50, the other IDP100\n",
    "        N, C, H, W = c.size()\n",
    "        non_zero_channel_1 = int(C*(self.idp1))\n",
    "        non_zero_channel_2 = int(C*(self.idp2))\n",
    "        if C-non_zero_channel_1 > 0:\n",
    "            zeros = Variable(torch.zeros(N, C-non_zero_channel_1, H, W)).type(dtype)\n",
    "            c1 = torch.cat([c[:, :non_zero_channel_1, :, :].clone(), zeros], 1).type(dtype)\n",
    "        else:\n",
    "            c1 = c\n",
    "        if C-non_zero_channel_2 > 0:\n",
    "            zeros = Variable(torch.zeros(N, C-non_zero_channel_2, H, W)).type(dtype)\n",
    "            c2 = torch.cat([c[:, :non_zero_channel_2, :, :].clone(), zeros], 1).type(dtype)\n",
    "        else:\n",
    "            c2 = c\n",
    "        out = torch.cat([c1, c2], 0)\n",
    "        return out\n",
    "        \n",
    "class middle_idp_tensor(nn.Module):\n",
    "    def __init__(self, idp1=0.5, idp2=1):\n",
    "        super(middle_idp_tensor, self).__init__()\n",
    "        self.idp1 = idp1\n",
    "        self.idp2 = idp2\n",
    "    def forward(self, c):\n",
    "        #input a middle conv-Relu-Linear output, 2N*C*H*W, apply IDP50 to first half, IDP100 the other\n",
    "        NN, C, H, W = c.size()\n",
    "        if NN>=2:\n",
    "            N = int(NN/2)\n",
    "            non_zero_channel_1 = int(C*(self.idp1))\n",
    "            non_zero_channel_2 = int(C*(self.idp2))\n",
    "            c1 = c[:N,:,:,:]\n",
    "            c2 = c[N:,:,:,:]\n",
    "            if C-non_zero_channel_1 > 0:\n",
    "                zeros = Variable(torch.zeros(N, C-non_zero_channel_1, H, W)).type(dtype)\n",
    "                c1 = torch.cat([c1[:, :non_zero_channel_1, :, :].clone(), zeros], 1).type(dtype)\n",
    "            else:\n",
    "                c1 = c1\n",
    "            if C-non_zero_channel_2 > 0:\n",
    "                zeros = Variable(torch.zeros(N, C-non_zero_channel_2, H, W)).type(dtype)\n",
    "                c2 = torch.cat([c2[:, :non_zero_channel_2, :, :].clone(), zeros], 1).type(dtype)\n",
    "            else:\n",
    "                c2 = c2\n",
    "            out = torch.cat([c1, c2],0)\n",
    "            return out\n",
    "        else:\n",
    "            return c\n",
    "        \n",
    "class func_allone(nn.Module):\n",
    "    def forward(self, x):\n",
    "        #x is an input tensor, size N*C*H*W\n",
    "        #for cnn, functions are applied to each filter\n",
    "        N, C, H, W = x.size()\n",
    "        x = torch.mul(x.clone(), Variable(torch.ones(N, C, H, W), requires_grad=False).type(dtype))\n",
    "        return x\n",
    "\n",
    "class func_linear(nn.Module):\n",
    "    def __init__(self, k=1):\n",
    "        super(func_linear, self).__init__()\n",
    "        self.k = k\n",
    "    def channel_coeff(self, N, C, H, W):\n",
    "        #C is channels, return a list with corresponding index: [k, k/2,...]\n",
    "        #returns a tensor with size N*C*H*W\n",
    "        coeff = list(map(lambda a: 1-(a/(C+1)), range(0,C)))\n",
    "        tensor_list = []\n",
    "        for c in coeff:\n",
    "            coeff_tensor = torch.ones(H, W)\n",
    "            coeff_tensor = torch.mul(coeff_tensor, c)\n",
    "            tensor_list.append(coeff_tensor)\n",
    "        ct = torch.stack(tensor_list, 0)\n",
    "        ct = torch.stack(([ct]*N))\n",
    "        return ct\n",
    "    \n",
    "    def forward(self, x):\n",
    "        N, C, H, W = x.size()\n",
    "        x = torch.mul(x.clone(), Variable(self.channel_coeff(N, C, H, W), requires_grad=False).type(dtype))\n",
    "        return x\n",
    "        \n",
    "class func_harmonic(nn.Module):\n",
    "    #perform element-wise multiplication to channels in x with coefficient k/n, n is channel index\n",
    "    def __init__(self, k=1):\n",
    "        super(func_harmonic, self).__init__()\n",
    "        self.k = k\n",
    "    def channel_coeff(self, N, C, H, W):\n",
    "        #C is channels, return a list with corresponding index: [k, k/2,...]\n",
    "        #returns a tensor with size N*C*H*W\n",
    "        coeff = list(map(lambda a: self.k/a, range(1,C+1)))\n",
    "        tensor_list = []\n",
    "        for c in coeff:\n",
    "            coeff_tensor = torch.ones(H, W)\n",
    "            coeff_tensor = torch.mul(coeff_tensor, c)\n",
    "            tensor_list.append(coeff_tensor)\n",
    "        ct = torch.stack(tensor_list, 0)\n",
    "        ct = torch.stack(([ct]*N))\n",
    "        return ct\n",
    "    \n",
    "    def forward(self, x):\n",
    "        #x is an input tensor, size N*C*H*W\n",
    "        #for cnn, functions are applied to each filter\n",
    "        N, C, H, W = x.size()\n",
    "        x = torch.mul(x.clone(), Variable(self.channel_coeff(N, C, H, W), requires_grad=False).type(dtype))\n",
    "        return x"
   ]
  },
  {
   "cell_type": "code",
   "execution_count": 33,
   "metadata": {
    "collapsed": true
   },
   "outputs": [],
   "source": [
    "class tesla_coef_idp_VGG_branch(nn.Module):\n",
    "    def __init__(self, idp_layers, model=models.vgg16(pretrained=True).type(dtype), idp1=0.5, idp2=1):\n",
    "        #idp is 0~1, idp_layers is a set, specify which layer in features should apply idp\n",
    "        #now idp_layers is 3,6,8,11,13,15,18,20,22,25,27,29\n",
    "        super(tesla_coef_idp_VGG_branch, self).__init__()\n",
    "        self.idp1 = idp1\n",
    "        self.idp2 = idp2\n",
    "        self.idp_layers = idp_layers\n",
    "        self.features = nn.Sequential(*(self.new_features_list(model)))\n",
    "        self.classifier = nn.Sequential(nn.Linear(512, 512),\n",
    "                              nn.ReLU(inplace=True),\n",
    "                              nn.Dropout(0.5),\n",
    "                              nn.Linear(512, 10))\n",
    "        \n",
    "    \n",
    "    def new_features_list(self, model):\n",
    "        new_layers = []\n",
    "        #create from pre-trained resnet\n",
    "        for i, layer in enumerate(list(model.features.children())):\n",
    "            if i ==1:\n",
    "                new_layers.append(layer)\n",
    "                new_layers.append(func_linear())\n",
    "                new_layers.append(first_idp_tensor(self.idp1, self.idp2))\n",
    "            elif i not in self.idp_layers:\n",
    "                new_layers.append(layer)                \n",
    "            else:\n",
    "                new_layers.append(layer)\n",
    "                new_layers.append(func_linear())\n",
    "                new_layers.append(middle_idp_tensor(self.idp1, self.idp2))\n",
    "        new_layers.append(Flatten())\n",
    "        return new_layers        \n",
    "    \n",
    "    def forward(self, x):\n",
    "        f = self.features(x)\n",
    "        NN, M = f.size()\n",
    "        N = int(NN/2)\n",
    "        o1 = f[:N, :]\n",
    "        o2 = f[N:, :]\n",
    "        o1 = self.classifier(o1)\n",
    "        o2 = self.classifier(o2)\n",
    "        return o1, o2"
   ]
  },
  {
   "cell_type": "code",
   "execution_count": 20,
   "metadata": {},
   "outputs": [
    {
     "name": "stdout",
     "output_type": "stream",
     "text": [
      "torch.Size([32, 10])\n",
      "torch.Size([32, 10])\n"
     ]
    }
   ],
   "source": [
    "# test the model by forward pass, output size\n",
    "idp_layers = {3,6,8,11,13,15,18,20,22,25,27,29}\n",
    "net = tesla_coef_idp_VGG_branch(idp_layers, idp1=0.3, idp2=1).type(dtype)\n",
    "\n",
    "x = Variable(torch.randn(32, 3, 32, 32)).type(dtype)\n",
    "out1, out2 = net(x)\n",
    "print(out1.size())\n",
    "print(out2.size())"
   ]
  },
  {
   "cell_type": "code",
   "execution_count": 34,
   "metadata": {
    "collapsed": true
   },
   "outputs": [],
   "source": [
    "def train_tesla(num_epoch, net, criterion, optimizer, alpha=0, index=0):\n",
    "    train_loss = []\n",
    "    test_loss = []\n",
    "    train_acc = []\n",
    "    test_acc = []\n",
    "\n",
    "    # start training\n",
    "    for epoch in range(num_epoch):  # loop over the dataset multiple times\n",
    "        running_loss1 = []\n",
    "        running_loss2 = []\n",
    "        running_correct1=[]\n",
    "        running_correct2=[]\n",
    "        for i, data in enumerate(trainloader, 0):\n",
    "            correct = 0\n",
    "            net.train(True)\n",
    "            # get the inputs\n",
    "            inputs, labels = data\n",
    "            # wrap them in Variable\n",
    "            inputs, labels = Variable(inputs).type(dtype), Variable(labels).type(torch.cuda.LongTensor)\n",
    "            # zero the parameter gradients\n",
    "            optimizer.zero_grad()\n",
    "            # forward + backward + optimize\n",
    "            outputs = net(inputs)\n",
    "            loss1 = criterion(outputs[0], labels)\n",
    "            loss2 = criterion(outputs[1], labels)\n",
    "            loss = alpha*loss1+(1-alpha)*loss2\n",
    "            \n",
    "            loss.backward()\n",
    "            optimizer.step()\n",
    "            # print statistics\n",
    "            # loss\n",
    "            running_loss1.append(loss.data[0])\n",
    "            # accuracy\n",
    "            _, predicted = torch.max(outputs[index].data, 1)\n",
    "            correct += (predicted == labels.data).sum()\n",
    "            correct = correct/labels.size(0)*100\n",
    "            running_correct1.append(correct)\n",
    "\n",
    "        for i, tdata in enumerate(valloader, 0):\n",
    "            test_correct = 0\n",
    "            net.train(False)\n",
    "            tinputs, tlabels = tdata\n",
    "            tinputs, tlabels = Variable(tinputs).type(dtype), Variable(tlabels).type(torch.cuda.LongTensor)\n",
    "            toutputs = net(tinputs)\n",
    "            tloss1 = criterion(toutputs[0], tlabels)\n",
    "            tloss2 = criterion(toutputs[1], tlabels)\n",
    "            tloss = alpha*tloss1+(1-alpha)*tloss2\n",
    "            running_loss2.append(tloss.data[0])\n",
    "            _, tpredicted = torch.max(toutputs[index].data, 1)\n",
    "            test_correct += (tpredicted == tlabels.data).sum()\n",
    "            test_correct = test_correct/tlabels.size(0)*100\n",
    "            running_correct2.append(test_correct)\n",
    "\n",
    "        train_loss.append(np.mean(running_loss1))\n",
    "        test_loss.append(np.mean(running_loss2))\n",
    "        train_acc.append(np.mean(running_correct1))\n",
    "        test_acc.append(np.mean(running_correct2))\n",
    "\n",
    "        #statistics\n",
    "        print('Epoch [%d/%d], Train Loss:%.3f, Val Loss:%.3f, Train Accuracy:%.3f percent, Val Accuracy:%.3f percent' \n",
    "                    %(epoch+1, num_epoch, train_loss[-1], test_loss[-1], train_acc[-1], test_acc[-1]))\n",
    "        #save model every 10 epoch\n",
    "        if epoch%10 ==0:\n",
    "            file = 'saved_models/'+str(epoch)+'profile_linear_idp_model.pkl'\n",
    "            torch.save(net.state_dict(), file)\n",
    "        #early stopping\n",
    "        if epoch >= 3:\n",
    "            if (test_acc[-1] - test_acc[-2]) <=0 and (test_acc[-1] - test_acc[-3]) <= 0:\n",
    "                print('Early stopping')\n",
    "                return train_loss, test_loss, train_acc, test_acc\n",
    "            else:\n",
    "                continue\n",
    "        \n",
    "    print('Finished Training')\n",
    "    return train_loss, test_loss, train_acc, test_acc"
   ]
  },
  {
   "cell_type": "code",
   "execution_count": 35,
   "metadata": {
    "collapsed": true
   },
   "outputs": [],
   "source": [
    "# loss and optimizer\n",
    "#optimizer = optim.SGD([{'params': net.features.parameters()},\n",
    "#                       {'params': net.classifier.parameters(), 'lr': 1e-3}], lr=3e-4, momentum=momentum)"
   ]
  },
  {
   "cell_type": "code",
   "execution_count": 36,
   "metadata": {},
   "outputs": [
    {
     "name": "stdout",
     "output_type": "stream",
     "text": [
      "train with idp1\n",
      "Epoch [1/10], Train Loss:2.304, Val Loss:2.303, Train Accuracy:9.867 percent, Val Accuracy:10.032 percent\n",
      "Epoch [2/10], Train Loss:2.178, Val Loss:1.848, Train Accuracy:14.199 percent, Val Accuracy:22.273 percent\n",
      "Epoch [3/10], Train Loss:1.739, Val Loss:1.516, Train Accuracy:27.897 percent, Val Accuracy:38.873 percent\n",
      "Epoch [4/10], Train Loss:1.407, Val Loss:1.220, Train Accuracy:42.892 percent, Val Accuracy:53.961 percent\n",
      "Epoch [5/10], Train Loss:1.081, Val Loss:0.947, Train Accuracy:60.781 percent, Val Accuracy:65.784 percent\n",
      "Epoch [6/10], Train Loss:0.864, Val Loss:0.788, Train Accuracy:69.956 percent, Val Accuracy:73.826 percent\n",
      "Epoch [7/10], Train Loss:0.729, Val Loss:0.737, Train Accuracy:75.428 percent, Val Accuracy:75.637 percent\n",
      "Epoch [8/10], Train Loss:0.637, Val Loss:0.720, Train Accuracy:78.979 percent, Val Accuracy:75.876 percent\n",
      "Epoch [9/10], Train Loss:0.556, Val Loss:0.622, Train Accuracy:81.518 percent, Val Accuracy:80.016 percent\n",
      "Epoch [10/10], Train Loss:0.486, Val Loss:0.654, Train Accuracy:84.041 percent, Val Accuracy:79.160 percent\n",
      "Finished Training\n",
      "train with idp2\n",
      "Epoch [1/10], Train Loss:0.423, Val Loss:0.552, Train Accuracy:85.929 percent, Val Accuracy:83.221 percent\n",
      "Epoch [2/10], Train Loss:0.353, Val Loss:0.585, Train Accuracy:88.570 percent, Val Accuracy:82.862 percent\n",
      "Epoch [3/10], Train Loss:0.303, Val Loss:0.606, Train Accuracy:90.353 percent, Val Accuracy:82.663 percent\n",
      "Epoch [4/10], Train Loss:0.270, Val Loss:0.592, Train Accuracy:91.551 percent, Val Accuracy:83.260 percent\n",
      "Epoch [5/10], Train Loss:0.235, Val Loss:0.589, Train Accuracy:92.738 percent, Val Accuracy:82.842 percent\n",
      "Epoch [6/10], Train Loss:0.203, Val Loss:0.600, Train Accuracy:93.732 percent, Val Accuracy:83.738 percent\n",
      "Epoch [7/10], Train Loss:0.174, Val Loss:0.651, Train Accuracy:94.566 percent, Val Accuracy:81.907 percent\n",
      "Early stopping\n"
     ]
    }
   ],
   "source": [
    "# define models, optimizers, training\n",
    "idp_ranges = [0.5, 1]\n",
    "all_train_loss = []\n",
    "all_test_loss = []\n",
    "all_train_acc = []\n",
    "all_test_acc = []\n",
    "\n",
    "idp_layers = {1,3,6,8,11,13,15,18,20,22,25,27,29}\n",
    "\n",
    "criterion = nn.CrossEntropyLoss()\n",
    "net = tesla_coef_idp_VGG_branch(idp_layers, idp1=0.5, idp2=1).type(dtype)\n",
    "optimizer = optim.SGD(net.parameters(), lr=learning_rate, momentum=momentum)\n",
    "\n",
    "for index, idp in enumerate(idp_ranges):\n",
    "    if index == 0:\n",
    "        print('train with idp1')\n",
    "        train_loss, test_loss, train_acc, test_acc = train_tesla(num_epoch, net, criterion, optimizer, 1, 0)\n",
    "        all_train_loss.extend(train_loss)\n",
    "        all_test_loss.extend(test_loss)\n",
    "        all_train_acc.extend(train_acc)\n",
    "        all_test_acc.extend(test_acc)\n",
    "    else:\n",
    "        print('train with idp2')\n",
    "        train_loss, test_loss, train_acc, test_acc = train_tesla(num_epoch, net, criterion, optimizer, 0.5, 1)        \n",
    "        all_train_loss.extend(train_loss)\n",
    "        all_test_loss.extend(test_loss)\n",
    "        all_train_acc.extend(train_acc)\n",
    "        all_test_acc.extend(test_acc)"
   ]
  },
  {
   "cell_type": "code",
   "execution_count": 37,
   "metadata": {
    "collapsed": true
   },
   "outputs": [],
   "source": [
    "# Save the Model\n",
    "torch.save(net.state_dict(), 'saved_models/tesla_branch_linear_idp_model.pkl')"
   ]
  },
  {
   "cell_type": "code",
   "execution_count": 38,
   "metadata": {},
   "outputs": [
    {
     "data": {
      "text/plain": [
       "<matplotlib.figure.Figure at 0x7fe851307438>"
      ]
     },
     "metadata": {},
     "output_type": "display_data"
    },
    {
     "data": {
      "image/png": "[encoded data removed]",
      "text/plain": [
       "<matplotlib.figure.Figure at 0x7fe85b2885f8>"
      ]
     },
     "metadata": {},
     "output_type": "display_data"
    }
   ],
   "source": [
    "plot_losses(all_train_loss, all_test_loss)"
   ]
  },
  {
   "cell_type": "code",
   "execution_count": 39,
   "metadata": {},
   "outputs": [
    {
     "data": {
      "text/plain": [
       "<matplotlib.figure.Figure at 0x7fe851307390>"
      ]
     },
     "metadata": {},
     "output_type": "display_data"
    },
    {
     "data": {
      "image/png": "[encoded data removed]",
      "text/plain": [
       "<matplotlib.figure.Figure at 0x7fe84af0bb70>"
      ]
     },
     "metadata": {},
     "output_type": "display_data"
    }
   ],
   "source": [
    "plot_accuracy(all_train_acc, all_test_acc)"
   ]
  },
  {
   "cell_type": "code",
   "execution_count": 40,
   "metadata": {
    "collapsed": true
   },
   "outputs": [],
   "source": [
    "# Load the trained model\n",
    "net.load_state_dict(torch.load('saved_models/tesla_branch_linear_idp_model.pkl'))"
   ]
  },
  {
   "cell_type": "code",
   "execution_count": 41,
   "metadata": {},
   "outputs": [
    {
     "name": "stdout",
     "output_type": "stream",
     "text": [
      "Accuracy of the network on the 10000 test images: 82 %\n"
     ]
    },
    {
     "data": {
      "text/plain": [
       "82.82"
      ]
     },
     "execution_count": 41,
     "metadata": {},
     "output_type": "execute_result"
    }
   ],
   "source": [
    "def test_acccuracy(testloader, model):\n",
    "    correct = 0\n",
    "    total = 0\n",
    "    for data in testloader:\n",
    "        images, labels = data\n",
    "        outputs1, outputs2 = model.forward(Variable(images, volatile=True).type(dtype))\n",
    "        labels = Variable(labels, volatile=True).type(torch.cuda.LongTensor)\n",
    "        _, predicted = torch.max(outputs2.data, 1)\n",
    "        total += labels.size(0)\n",
    "        correct += (predicted == labels.data).sum()\n",
    "    acc = 100*correct/total\n",
    "    print('Accuracy of the network on the 10000 test images: %d %%' % (acc))\n",
    "    return acc\n",
    "\n",
    "test_acccuracy(testloader, net.eval())"
   ]
  },
  {
   "cell_type": "code",
   "execution_count": 42,
   "metadata": {},
   "outputs": [
    {
     "name": "stdout",
     "output_type": "stream",
     "text": [
      "[0.05, 0.1, 0.15, 0.2, 0.25, 0.3, 0.35, 0.4, 0.45, 0.5, 0.55, 0.6, 0.65, 0.7, 0.75, 0.8, 0.85, 0.9, 0.95, 1.0]\n",
      "Accuracy of the network on the 10000 test images: 10 %\n",
      "Accuracy of the network on the 10000 test images: 10 %\n",
      "Accuracy of the network on the 10000 test images: 9 %\n",
      "Accuracy of the network on the 10000 test images: 10 %\n",
      "Accuracy of the network on the 10000 test images: 9 %\n",
      "Accuracy of the network on the 10000 test images: 11 %\n",
      "Accuracy of the network on the 10000 test images: 28 %\n",
      "Accuracy of the network on the 10000 test images: 63 %\n",
      "Accuracy of the network on the 10000 test images: 76 %\n",
      "Accuracy of the network on the 10000 test images: 81 %\n",
      "Accuracy of the network on the 10000 test images: 81 %\n",
      "Accuracy of the network on the 10000 test images: 81 %\n",
      "Accuracy of the network on the 10000 test images: 82 %\n",
      "Accuracy of the network on the 10000 test images: 82 %\n",
      "Accuracy of the network on the 10000 test images: 82 %\n",
      "Accuracy of the network on the 10000 test images: 82 %\n",
      "Accuracy of the network on the 10000 test images: 82 %\n",
      "Accuracy of the network on the 10000 test images: 82 %\n",
      "Accuracy of the network on the 10000 test images: 82 %\n",
      "Accuracy of the network on the 10000 test images: 82 %\n"
     ]
    }
   ],
   "source": [
    "idp_acc_history = []\n",
    "idp_harmonic_history = [0]*20\n",
    "\n",
    "idp_scale = list(map(lambda x: x/20,range(1,21)))\n",
    "print(idp_scale)\n",
    "for i in idp_scale:\n",
    "    net_inference = tesla_coef_idp_VGG_branch(idp_layers, idp1=1, idp2=i).type(dtype)\n",
    "    net_inference.load_state_dict(torch.load('saved_models/tesla_branch_linear_idp_model.pkl'))\n",
    "    a = test_acccuracy(testloader, net_inference.eval())\n",
    "    idp_acc_history.append(a)"
   ]
  },
  {
   "cell_type": "code",
   "execution_count": 43,
   "metadata": {},
   "outputs": [
    {
     "data": {
      "text/plain": [
       "[10.06,\n",
       " 10.06,\n",
       " 9.76,\n",
       " 10.5,\n",
       " 9.82,\n",
       " 11.64,\n",
       " 28.34,\n",
       " 63.36,\n",
       " 76.0,\n",
       " 81.82,\n",
       " 81.12,\n",
       " 81.56,\n",
       " 82.0,\n",
       " 82.26,\n",
       " 82.38,\n",
       " 82.6,\n",
       " 82.54,\n",
       " 82.4,\n",
       " 82.84,\n",
       " 82.82]"
      ]
     },
     "execution_count": 43,
     "metadata": {},
     "output_type": "execute_result"
    }
   ],
   "source": [
    "idp_acc_history"
   ]
  },
  {
   "cell_type": "code",
   "execution_count": 44,
   "metadata": {
    "collapsed": true
   },
   "outputs": [],
   "source": [
    "profile = [10.06,\n",
    " 10.06,\n",
    " 10.24,\n",
    " 10.24,\n",
    " 9.8,\n",
    " 11.58,\n",
    " 17.32,\n",
    " 45.62,\n",
    " 65.78,\n",
    " 73.66,\n",
    " 75.22,\n",
    " 76.98,\n",
    " 78.8,\n",
    " 79.96,\n",
    " 80.4,\n",
    " 80.94,\n",
    " 81.2,\n",
    " 81.2,\n",
    " 81.62,\n",
    " 81.58]"
   ]
  },
  {
   "cell_type": "code",
   "execution_count": 45,
   "metadata": {
    "collapsed": true
   },
   "outputs": [],
   "source": [
    "all_one_acc_history = [10.0,\n",
    " 10.0,\n",
    " 10.0,\n",
    " 10.0,\n",
    " 10.01,\n",
    " 10.0,\n",
    " 10.05,\n",
    " 9.97,\n",
    " 9.98,\n",
    " 10.04,\n",
    " 10.4,\n",
    " 10.0,\n",
    " 10.53,\n",
    " 15.1,\n",
    " 20.53,\n",
    " 24.51,\n",
    " 33.01,\n",
    " 46.47,\n",
    " 69.54,\n",
    " 84.88]"
   ]
  },
  {
   "cell_type": "code",
   "execution_count": 46,
   "metadata": {
    "collapsed": true
   },
   "outputs": [],
   "source": [
    "linear_history = [10.0,\n",
    " 10.0,\n",
    " 10.0,\n",
    " 10.0,\n",
    " 10.0,\n",
    " 10.0,\n",
    " 10.0,\n",
    " 10.01,\n",
    " 12.02,\n",
    " 14.02,\n",
    " 18.1,\n",
    " 29.97,\n",
    " 53.39,\n",
    " 70.65,\n",
    " 80.72,\n",
    " 83.42,\n",
    " 85.51,\n",
    " 85.85,\n",
    " 86.11,\n",
    " 86.2]"
   ]
  },
  {
   "cell_type": "code",
   "execution_count": 47,
   "metadata": {
    "collapsed": true
   },
   "outputs": [],
   "source": [
    "def plot_idp_accuracy(accuracy1=None, accuracy2=None, accuracy3=None, accuracy4=None):\n",
    "    plt.clf()\n",
    "    fig4 = plt.figure()\n",
    "    ax1 = fig4.add_subplot(111)\n",
    "    idp_scale = list(map(lambda x: x/20,range(1,21)))\n",
    "    idp_scale_i = [i for i in range(0, len(idp_scale))]\n",
    "    if accuracy1:\n",
    "        ax1.plot(idp_scale_i, accuracy1, marker='o', linestyle='-', color='r', label=\"all-one\")\n",
    "    if accuracy2:\n",
    "        ax1.plot(idp_scale_i, accuracy2, marker='o', linestyle='--', color='g', label=\"Linear\")\n",
    "    if accuracy3:\n",
    "        ax1.plot(idp_scale_i, accuracy3, marker='o', linestyle='--', color='b', label=\"Profile-Linear\")\n",
    "    if accuracy4:\n",
    "        ax1.plot(idp_scale_i, accuracy4, marker='o', linestyle='--', color='y', label=\"Tesla-Linear\")\n",
    "    plt.xticks(idp_scale_i, idp_scale)\n",
    "    plt.xlabel(\"IDP\") \n",
    "    plt.ylabel(\"Accuracy(%)\")\n",
    "    plt.legend(bbox_to_anchor=(1.05, 1), loc=2, borderaxespad=0.)\n",
    "    plt.title(\"VGG(CIFAR-10)\") \n",
    "    plt.savefig('results_graphs/tesla_branch_linear_idp_accuracy.png')"
   ]
  },
  {
   "cell_type": "code",
   "execution_count": 48,
   "metadata": {},
   "outputs": [
    {
     "data": {
      "text/plain": [
       "<matplotlib.figure.Figure at 0x7fe8513b2668>"
      ]
     },
     "metadata": {},
     "output_type": "display_data"
    },
    {
     "data": {
      "image/png": "[encoded data removed]",
      "text/plain": [
       "<matplotlib.figure.Figure at 0x7fe8513fcb00>"
      ]
     },
     "metadata": {},
     "output_type": "display_data"
    }
   ],
   "source": [
    "plot_idp_accuracy(all_one_acc_history,linear_history, profile,idp_acc_history)"
   ]
  },
  {
   "cell_type": "code",
   "execution_count": null,
   "metadata": {
    "collapsed": true
   },
   "outputs": [],
   "source": []
  }
 ],
 "metadata": {
  "kernelspec": {
   "display_name": "Python 3",
   "language": "python",
   "name": "python3"
  },
  "language_info": {
   "codemirror_mode": {
    "name": "ipython",
    "version": 3
   },
   "file_extension": ".py",
   "mimetype": "text/x-python",
   "name": "python",
   "nbconvert_exporter": "python",
   "pygments_lexer": "ipython3",
   "version": "3.6.2"
  }
 },
 "nbformat": 4,
 "nbformat_minor": 2
}
