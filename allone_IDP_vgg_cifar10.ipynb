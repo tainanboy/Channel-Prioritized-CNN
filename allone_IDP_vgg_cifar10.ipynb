{
 "cells": [
  {
   "cell_type": "code",
   "execution_count": 44,
   "metadata": {
    "collapsed": true
   },
   "outputs": [],
   "source": [
    "import torch\n",
    "from torch.autograd import Variable\n",
    "import torch.nn as nn\n",
    "import torch.nn.functional as F\n",
    "import torch.optim as optim\n",
    "import torchvision\n",
    "import torchvision.transforms as transforms\n",
    "import torchvision.models as models\n",
    "import math\n",
    "import os\n",
    "os.environ[\"CUDA_VISIBLE_DEVICES\"] = \"5\"\n",
    "import matplotlib.pyplot as plt\n",
    "%matplotlib inline\n",
    "import numpy as np"
   ]
  },
  {
   "cell_type": "code",
   "execution_count": 45,
   "metadata": {},
   "outputs": [
    {
     "name": "stdout",
     "output_type": "stream",
     "text": [
      "True\n",
      "1\n"
     ]
    }
   ],
   "source": [
    "torch.cuda.set_device(0)\n",
    "# specify dtype\n",
    "use_cuda = torch.cuda.is_available()\n",
    "print(use_cuda)\n",
    "if use_cuda:\n",
    "    dtype = torch.cuda.FloatTensor\n",
    "else:\n",
    "    dtype = torch.FloatTensor\n",
    "print(torch.cuda.device_count())"
   ]
  },
  {
   "cell_type": "code",
   "execution_count": 46,
   "metadata": {
    "collapsed": true
   },
   "outputs": [],
   "source": [
    "# Hyperparameters\n",
    "batch_size = 32\n",
    "learning_rate = 1e-4\n",
    "momentum = 0.9\n",
    "num_epoch = 10\n",
    "show_every = 2000"
   ]
  },
  {
   "cell_type": "code",
   "execution_count": 47,
   "metadata": {
    "collapsed": true
   },
   "outputs": [],
   "source": [
    "class VGG16(nn.Module):\n",
    "    def __init__(self, idp):\n",
    "        #idp is between 0~1\n",
    "        super(VGG16, self).__init__()\n",
    "        self.conv1_1 = nn.Conv2d(3, 64, kernel_size=(3, 3), stride=(1, 1), padding=(1, 1))\n",
    "        self.conv1_2 = nn.Conv2d(64, 64, kernel_size=(3, 3), stride=(1, 1), padding=(1, 1))\n",
    "        self.conv2_1 = nn.Conv2d(64, 128, kernel_size=(3, 3), stride=(1, 1), padding=(1, 1))\n",
    "        self.conv2_2 = nn.Conv2d(128, 128, kernel_size=(3, 3), stride=(1, 1), padding=(1, 1))\n",
    "        self.conv3_1 = nn.Conv2d(128, 256, kernel_size=(3, 3), stride=(1, 1), padding=(1, 1))\n",
    "        self.conv3_2 = nn.Conv2d(256, 256, kernel_size=(3, 3), stride=(1, 1), padding=(1, 1))\n",
    "        self.conv3_3 = nn.Conv2d(256, 256, kernel_size=(3, 3), stride=(1, 1), padding=(1, 1))\n",
    "        self.conv4_1 = nn.Conv2d(256, 512, kernel_size=(3, 3), stride=(1, 1), padding=(1, 1))\n",
    "        self.conv4_2 = nn.Conv2d(512, 512, kernel_size=(3, 3), stride=(1, 1), padding=(1, 1))\n",
    "        self.conv4_3 = nn.Conv2d(512, 512, kernel_size=(3, 3), stride=(1, 1), padding=(1, 1))\n",
    "        self.conv5_1 = nn.Conv2d(512, 512, kernel_size=(3, 3), stride=(1, 1), padding=(1, 1))\n",
    "        self.conv5_2 = nn.Conv2d(512, 512, kernel_size=(3, 3), stride=(1, 1), padding=(1, 1))\n",
    "        self.conv5_3 = nn.Conv2d(512, 512, kernel_size=(3, 3), stride=(1, 1), padding=(1, 1))\n",
    "        self.pool1 = nn.MaxPool2d(kernel_size=(2, 2),stride=(2, 2),dilation=(1, 1))\n",
    "        self.pool2 = nn.MaxPool2d(kernel_size=(2, 2),stride=(2, 2),dilation=(1, 1))\n",
    "        self.pool3 = nn.MaxPool2d(kernel_size=(2, 2),stride=(2, 2),dilation=(1, 1))\n",
    "        self.pool4 = nn.MaxPool2d(kernel_size=(2, 2),stride=(2, 2),dilation=(1, 1))\n",
    "        self.pool5 = nn.MaxPool2d(kernel_size=(2, 2),stride=(2, 2),dilation=(1, 1))\n",
    "        self.linear1 = nn.Linear(512, 512)\n",
    "        self.linear2 = nn.Linear(512, 10)\n",
    "        self.dropout = nn.Dropout(0.5)\n",
    "        self.idp = idp\n",
    "        \n",
    "    def idp_tensor(self, c):\n",
    "        #c is an input tensor, size N*C*H*W\n",
    "        N, C, H, W = c.size()\n",
    "        non_zero_channel = int(C*(self.idp))\n",
    "        if C-non_zero_channel > 0:\n",
    "            zeros = torch.zeros(N, C-non_zero_channel, H, W)\n",
    "            c[:, non_zero_channel:, :, :] = zeros\n",
    "            return c\n",
    "        else:\n",
    "            return c\n",
    "        \n",
    "    def forward(self, x):\n",
    "        out = {}\n",
    "        #\n",
    "        out['r11'] = F.relu(self.conv1_1(x))\n",
    "        out['idp_r11'] = self.idp_tensor(out['r11'])\n",
    "        out['r12'] = F.relu(self.conv1_2(out['idp_r11']))\n",
    "        out['idp_r12'] = self.idp_tensor(out['r12'])\n",
    "        out['p1'] = self.pool1(out['idp_r12'])\n",
    "        #\n",
    "        out['r21'] = F.relu(self.conv2_1(out['p1']))\n",
    "        out['idp_r21'] = self.idp_tensor(out['r21'])\n",
    "        out['r22'] = F.relu(self.conv2_2(out['idp_r21']))\n",
    "        out['idp_r22'] = self.idp_tensor(out['r22'])\n",
    "        out['p2'] = self.pool2(out['idp_r22'])\n",
    "        #\n",
    "        out['r31'] = F.relu(self.conv3_1(out['p2']))\n",
    "        out['idp_r31'] = self.idp_tensor(out['r31'])\n",
    "        out['r32'] = F.relu(self.conv3_2(out['idp_r31']))\n",
    "        out['idp_r32'] = self.idp_tensor(out['r32'])\n",
    "        out['r33'] = F.relu(self.conv3_3(out['idp_r32']))\n",
    "        out['idp_r33'] = self.idp_tensor(out['r33'])\n",
    "        out['p3'] = self.pool3(out['idp_r33'])\n",
    "        #\n",
    "        out['r41'] = F.relu(self.conv4_1(out['p3']))\n",
    "        out['idp_r41'] = self.idp_tensor(out['r41'])\n",
    "        out['r42'] = F.relu(self.conv4_2(out['idp_r41']))\n",
    "        out['idp_r42'] = self.idp_tensor(out['r42'])\n",
    "        out['r43'] = F.relu(self.conv4_3(out['idp_r42']))\n",
    "        out['idp_r43'] = self.idp_tensor(out['r43'])\n",
    "        out['p4'] = self.pool4(out['idp_r43'])\n",
    "        #\n",
    "        out['r51'] = F.relu(self.conv5_1(out['p4']))\n",
    "        out['idp_r51'] = self.idp_tensor(out['r51'])\n",
    "        out['r52'] = F.relu(self.conv5_2(out['idp_r51']))\n",
    "        out['idp_r52'] = self.idp_tensor(out['r52'])\n",
    "        out['r53'] = F.relu(self.conv5_3(out['idp_r52']))\n",
    "        out['idp_r53'] = self.idp_tensor(out['r53'])\n",
    "        out['p5'] = self.pool5(out['idp_r53'])\n",
    "        # Flatten \n",
    "        out['p5'] = out['p5'].view(out['p5'].size(0), -1)\n",
    "        out['c1'] = F.relu(self.linear1(out['p5']))\n",
    "        out['c1'] = self.dropout(out['c1'])\n",
    "        out['output'] = self.linear2(out['c1'])\n",
    "        return out['output']"
   ]
  },
  {
   "cell_type": "code",
   "execution_count": 48,
   "metadata": {
    "collapsed": true
   },
   "outputs": [],
   "source": [
    "class Flatten(nn.Module):\n",
    "    def forward(self, x):\n",
    "        N, C, H, W = x.size() # read in N, C, H, W\n",
    "        return x.view(N, -1)  # \"flatten\" the C * H * W values into a single vector per image\n",
    "    \n",
    "class idp_tensor(nn.Module):\n",
    "    def __init__(self, idp):\n",
    "        super(idp_tensor, self).__init__()\n",
    "        self.idp = idp\n",
    "    def forward(self, c):\n",
    "        #c is an input tensor, size N*C*H*W\n",
    "        N, C, H, W = c.size()\n",
    "        non_zero_channel = int(C*(self.idp))\n",
    "        if C-non_zero_channel > 0:\n",
    "            zeros = Variable(torch.zeros(N, C-non_zero_channel, H, W)).type(dtype)\n",
    "            c = torch.cat([c[:, :non_zero_channel, :, :].clone(), zeros], 1).type(dtype)\n",
    "            #c[:, non_zero_channel:, :, :] = zeros\n",
    "            return c\n",
    "        else:\n",
    "            return c\n",
    "\n",
    "class func_allone(nn.Module):\n",
    "    def forward(self, x):\n",
    "        #x is an input tensor, size N*C*H*W\n",
    "        #for cnn, functions are applied to each filter\n",
    "        N, C, H, W = x.size()\n",
    "        x = torch.mul(x.clone(), Variable(torch.ones(N, C, H, W), requires_grad=False).type(dtype))\n",
    "        return x\n",
    "        \n",
    "class idp_VGG(nn.Module):\n",
    "    def __init__(self, idp, idp_layers):\n",
    "        #idp is 0~1, idp_layers is a set, specify which layer in features should apply idp\n",
    "        #now idp_layers is 1,3,6,8,11,13,15,18,20,22,25,27,29\n",
    "        super(idp_VGG, self).__init__()\n",
    "        self.idp = idp\n",
    "        self.idp_layers = idp_layers\n",
    "        self.features = nn.Sequential(*list(self.new_features_list()))\n",
    "        self.classifier = nn.Sequential(nn.Linear(512, 512),\n",
    "                              nn.ReLU(inplace=True),\n",
    "                              nn.Dropout(0.5),\n",
    "                              nn.Linear(512, 10))\n",
    "    \n",
    "    def new_features_list(self):\n",
    "        new_layers = []\n",
    "        for i, layer in enumerate(list(models.vgg16(pretrained=True).type(dtype).features.children())):\n",
    "            if i not in self.idp_layers:\n",
    "                new_layers.append(layer)\n",
    "            else:\n",
    "                new_layers.append(layer)\n",
    "                new_layers.append(idp_tensor(self.idp))\n",
    "        new_layers.append(Flatten())\n",
    "        return new_layers        \n",
    "    \n",
    "    def forward(self, x):\n",
    "        out = self.features(x)\n",
    "        out = self.classifier(out)\n",
    "        return out"
   ]
  },
  {
   "cell_type": "code",
   "execution_count": 49,
   "metadata": {
    "collapsed": true
   },
   "outputs": [],
   "source": [
    "#net = VGG16(idp=1).type(dtype)\n",
    "idp = 1\n",
    "idp_layers = {1,3,6,8,11,13,15,18,20,22,25,27,29}\n",
    "net = idp_VGG(idp,idp_layers).type(dtype)\n",
    "#net = torch.nn.DataParallel(idp_VGG(idp,idp_layers).type(dtype), device_ids=[0, 1])"
   ]
  },
  {
   "cell_type": "code",
   "execution_count": 50,
   "metadata": {},
   "outputs": [
    {
     "name": "stdout",
     "output_type": "stream",
     "text": [
      "torch.Size([28, 10])\n"
     ]
    }
   ],
   "source": [
    "x = Variable(torch.randn(28, 3, 32, 32)).type(dtype)\n",
    "out = net(x)\n",
    "print(out.size())"
   ]
  },
  {
   "cell_type": "code",
   "execution_count": 51,
   "metadata": {},
   "outputs": [
    {
     "name": "stdout",
     "output_type": "stream",
     "text": [
      "==> Preparing data..\n",
      "Files already downloaded and verified\n",
      "Files already downloaded and verified\n",
      "50000\n",
      "10000\n"
     ]
    }
   ],
   "source": [
    "# Data\n",
    "print('==> Preparing data..')\n",
    "transform = transforms.Compose(\n",
    "    [transforms.ToTensor(),\n",
    "     transforms.Normalize((0.5, 0.5, 0.5), (0.5, 0.5, 0.5))])\n",
    "\n",
    "trainset = torchvision.datasets.CIFAR10(root='/data/put_data/frank840925/IDP/data', train=True, download=True, transform=transform)\n",
    "trainloader = torch.utils.data.DataLoader(trainset, batch_size=batch_size, shuffle=True)\n",
    "\n",
    "testset = torchvision.datasets.CIFAR10(root='/data/put_data/frank840925/IDP/data', train=False, download=True, transform=transform)\n",
    "testloader = torch.utils.data.DataLoader(testset, batch_size=batch_size, shuffle=False)\n",
    "\n",
    "classes = ('plane', 'car', 'bird', 'cat', 'deer', 'dog', 'frog', 'horse', 'ship', 'truck')\n",
    "print(trainset.__len__())\n",
    "print(testset.__len__())"
   ]
  },
  {
   "cell_type": "code",
   "execution_count": 52,
   "metadata": {},
   "outputs": [
    {
     "name": "stdout",
     "output_type": "stream",
     "text": [
      "torch.Size([32, 3, 32, 32])\n"
     ]
    }
   ],
   "source": [
    "# functions to show an image\n",
    "def imshow(img):\n",
    "    img = img / 2 + 0.5     # unnormalize\n",
    "    npimg = img.numpy()\n",
    "    plt.imshow(np.transpose(npimg, (1, 2, 0)))\n",
    "\n",
    "def plot_losses(loss_history1=None, loss_history2=None):\n",
    "    plt.clf()\n",
    "    fig = plt.figure()\n",
    "    ax1 = fig.add_subplot(111)\n",
    "    if loss_history1:\n",
    "        ax1.plot(loss_history1, color=\"blue\", label=\"train\")\n",
    "    if loss_history2:\n",
    "        ax1.plot(loss_history2, color=\"green\", label=\"test\")\n",
    "    #ax2 = ax1.twinx()\n",
    "    #ax2.set_yscale('log')\n",
    "    plt.xlabel(\"epoch\") \n",
    "    plt.ylabel(\"loss\") \n",
    "    plt.legend(bbox_to_anchor=(1.05, 1), loc=2, borderaxespad=0.)\n",
    "    plt.title(\"Cross-entropy loss\")\n",
    "    plt.savefig('output_losses.png')\n",
    "\n",
    "def plot_accuracy(accuracy1=None, accuracy2=None):\n",
    "    plt.clf()\n",
    "    fig2 = plt.figure()\n",
    "    ax1 = fig2.add_subplot(111)\n",
    "    if accuracy1:\n",
    "        ax1.plot(accuracy1, color=\"red\", label=\"train\")\n",
    "    if accuracy2:\n",
    "        ax1.plot(accuracy2, color=\"black\", label=\"test\")\n",
    "    plt.xlabel(\"epoch\") \n",
    "    plt.ylabel(\"accuracy\")\n",
    "    plt.legend(bbox_to_anchor=(1.05, 1), loc=2, borderaxespad=0.)\n",
    "    plt.title(\"Train/Test accuracy\") \n",
    "    plt.savefig('accuracy.png')\n",
    "\n",
    "# get some random training images\n",
    "dataiter = iter(trainloader)\n",
    "images, labels = dataiter.next()\n",
    "print(images.shape)"
   ]
  },
  {
   "cell_type": "code",
   "execution_count": 53,
   "metadata": {},
   "outputs": [
    {
     "data": {
      "text/plain": [
       "idp_VGG (\n",
       "  (features): Sequential (\n",
       "    (0): Conv2d(3, 64, kernel_size=(3, 3), stride=(1, 1), padding=(1, 1))\n",
       "    (1): ReLU (inplace)\n",
       "    (2): idp_tensor (\n",
       "    )\n",
       "    (3): Conv2d(64, 64, kernel_size=(3, 3), stride=(1, 1), padding=(1, 1))\n",
       "    (4): ReLU (inplace)\n",
       "    (5): idp_tensor (\n",
       "    )\n",
       "    (6): MaxPool2d (size=(2, 2), stride=(2, 2), dilation=(1, 1))\n",
       "    (7): Conv2d(64, 128, kernel_size=(3, 3), stride=(1, 1), padding=(1, 1))\n",
       "    (8): ReLU (inplace)\n",
       "    (9): idp_tensor (\n",
       "    )\n",
       "    (10): Conv2d(128, 128, kernel_size=(3, 3), stride=(1, 1), padding=(1, 1))\n",
       "    (11): ReLU (inplace)\n",
       "    (12): idp_tensor (\n",
       "    )\n",
       "    (13): MaxPool2d (size=(2, 2), stride=(2, 2), dilation=(1, 1))\n",
       "    (14): Conv2d(128, 256, kernel_size=(3, 3), stride=(1, 1), padding=(1, 1))\n",
       "    (15): ReLU (inplace)\n",
       "    (16): idp_tensor (\n",
       "    )\n",
       "    (17): Conv2d(256, 256, kernel_size=(3, 3), stride=(1, 1), padding=(1, 1))\n",
       "    (18): ReLU (inplace)\n",
       "    (19): idp_tensor (\n",
       "    )\n",
       "    (20): Conv2d(256, 256, kernel_size=(3, 3), stride=(1, 1), padding=(1, 1))\n",
       "    (21): ReLU (inplace)\n",
       "    (22): idp_tensor (\n",
       "    )\n",
       "    (23): MaxPool2d (size=(2, 2), stride=(2, 2), dilation=(1, 1))\n",
       "    (24): Conv2d(256, 512, kernel_size=(3, 3), stride=(1, 1), padding=(1, 1))\n",
       "    (25): ReLU (inplace)\n",
       "    (26): idp_tensor (\n",
       "    )\n",
       "    (27): Conv2d(512, 512, kernel_size=(3, 3), stride=(1, 1), padding=(1, 1))\n",
       "    (28): ReLU (inplace)\n",
       "    (29): idp_tensor (\n",
       "    )\n",
       "    (30): Conv2d(512, 512, kernel_size=(3, 3), stride=(1, 1), padding=(1, 1))\n",
       "    (31): ReLU (inplace)\n",
       "    (32): idp_tensor (\n",
       "    )\n",
       "    (33): MaxPool2d (size=(2, 2), stride=(2, 2), dilation=(1, 1))\n",
       "    (34): Conv2d(512, 512, kernel_size=(3, 3), stride=(1, 1), padding=(1, 1))\n",
       "    (35): ReLU (inplace)\n",
       "    (36): idp_tensor (\n",
       "    )\n",
       "    (37): Conv2d(512, 512, kernel_size=(3, 3), stride=(1, 1), padding=(1, 1))\n",
       "    (38): ReLU (inplace)\n",
       "    (39): idp_tensor (\n",
       "    )\n",
       "    (40): Conv2d(512, 512, kernel_size=(3, 3), stride=(1, 1), padding=(1, 1))\n",
       "    (41): ReLU (inplace)\n",
       "    (42): idp_tensor (\n",
       "    )\n",
       "    (43): MaxPool2d (size=(2, 2), stride=(2, 2), dilation=(1, 1))\n",
       "    (44): Flatten (\n",
       "    )\n",
       "  )\n",
       "  (classifier): Sequential (\n",
       "    (0): Linear (512 -> 512)\n",
       "    (1): ReLU (inplace)\n",
       "    (2): Dropout (p = 0.5)\n",
       "    (3): Linear (512 -> 10)\n",
       "  )\n",
       ")"
      ]
     },
     "execution_count": 53,
     "metadata": {},
     "output_type": "execute_result"
    }
   ],
   "source": [
    "net"
   ]
  },
  {
   "cell_type": "code",
   "execution_count": 54,
   "metadata": {},
   "outputs": [],
   "source": [
    "# loss and optimizer\n",
    "criterion = nn.CrossEntropyLoss()\n",
    "optimizer = optim.SGD([{'params': net.features.parameters()},\n",
    "           {'params': net.classifier.parameters(), 'lr': 3e-4}], lr=learning_rate, momentum=momentum)"
   ]
  },
  {
   "cell_type": "code",
   "execution_count": 55,
   "metadata": {},
   "outputs": [
    {
     "name": "stdout",
     "output_type": "stream",
     "text": [
      "Epoch [1/10], Loss: 1.0496, Train Accuracy: 62.915866922584776 percent\n",
      "Epoch [2/10], Loss: 0.6209, Train Accuracy: 78.410908509277036 percent\n",
      "Epoch [3/10], Loss: 0.5190, Train Accuracy: 82.029750479846456 percent\n",
      "Epoch [4/10], Loss: 0.4550, Train Accuracy: 84.061100447856688 percent\n",
      "Epoch [5/10], Loss: 0.4068, Train Accuracy: 85.982485604606524 percent\n",
      "Epoch [6/10], Loss: 0.3652, Train Accuracy: 87.306062060140761 percent\n",
      "Epoch [7/10], Loss: 0.3326, Train Accuracy: 88.47568777991043 percent\n",
      "Epoch [8/10], Loss: 0.3002, Train Accuracy: 89.683301343570051 percent\n",
      "Epoch [9/10], Loss: 0.2724, Train Accuracy: 90.646992962252085 percent\n",
      "Epoch [10/10], Loss: 0.2474, Train Accuracy: 91.464731285988478 percent\n",
      "Finished Training\n"
     ]
    }
   ],
   "source": [
    "train_loss = []\n",
    "test_loss = []\n",
    "train_acc = []\n",
    "test_acc = []\n",
    "\n",
    "# start training\n",
    "for epoch in range(num_epoch):  # loop over the dataset multiple times\n",
    "    running_loss1 = []\n",
    "    running_loss2 = []\n",
    "    running_correct1=[]\n",
    "    running_correct2=[]\n",
    "    for i, data in enumerate(trainloader, 0):\n",
    "        correct = 0\n",
    "        net.train(True)\n",
    "        # get the inputs\n",
    "        inputs, labels = data\n",
    "        # wrap them in Variable\n",
    "        inputs, labels = Variable(inputs).type(dtype), Variable(labels).type(torch.cuda.LongTensor)\n",
    "        # zero the parameter gradients\n",
    "        optimizer.zero_grad()\n",
    "        # forward + backward + optimize\n",
    "        outputs = net(inputs)\n",
    "        loss = criterion(outputs, labels)\n",
    "        loss.backward()\n",
    "        optimizer.step()\n",
    "        # print statistics\n",
    "        # loss\n",
    "        running_loss1.append(loss.data[0])\n",
    "        # accuracy\n",
    "        _, predicted = torch.max(outputs.data, 1)\n",
    "        correct += (predicted == labels.data).sum()\n",
    "        correct = correct/labels.size(0)*100\n",
    "        running_correct1.append(correct)\n",
    "        \n",
    "    for i, tdata in enumerate(testloader, 0):\n",
    "        test_correct = 0\n",
    "        net.train(False)\n",
    "        tinputs, tlabels = tdata\n",
    "        tinputs, tlabels = Variable(tinputs, volatile=True).type(dtype), Variable(tlabels, volatile=True).type(torch.cuda.LongTensor)\n",
    "        toutput = net(tinputs)\n",
    "        tloss = criterion(toutput, tlabels)\n",
    "        running_loss2.append(tloss.data[0])\n",
    "        _, tpredicted = torch.max(toutput.data, 1)\n",
    "        test_correct += (tpredicted == tlabels.data).sum()\n",
    "        test_correct = test_correct/tlabels.size(0)*100\n",
    "        running_correct2.append(test_correct)\n",
    "    \n",
    "    train_loss.append(np.mean(running_loss1))\n",
    "    test_loss.append(np.mean(running_loss2))\n",
    "    train_acc.append(np.mean(running_correct1))\n",
    "    test_acc.append(np.mean(running_correct2))\n",
    "    \n",
    "    #statistics\n",
    "    print('Epoch [%d/%d], Loss: %.4f, Train Accuracy: %r percent' \n",
    "                %(epoch+1, num_epoch, train_loss[-1], train_acc[-1]))\n",
    "\n",
    "print('Finished Training')"
   ]
  },
  {
   "cell_type": "code",
   "execution_count": 56,
   "metadata": {
    "collapsed": true
   },
   "outputs": [],
   "source": [
    "# Save the Model\n",
    "torch.save(net.state_dict(), 'allone_idp_model.pkl')"
   ]
  },
  {
   "cell_type": "code",
   "execution_count": 57,
   "metadata": {},
   "outputs": [
    {
     "data": {
      "text/plain": [
       "<matplotlib.figure.Figure at 0x7f1974062048>"
      ]
     },
     "metadata": {},
     "output_type": "display_data"
    },
    {
     "data": {
      "image/png": "[encoded data removed]",
      "text/plain": [
       "<matplotlib.figure.Figure at 0x7f19740627b8>"
      ]
     },
     "metadata": {},
     "output_type": "display_data"
    }
   ],
   "source": [
    "plot_losses(train_loss, test_loss)"
   ]
  },
  {
   "cell_type": "code",
   "execution_count": 58,
   "metadata": {},
   "outputs": [
    {
     "data": {
      "text/plain": [
       "<matplotlib.figure.Figure at 0x7f19d56f30b8>"
      ]
     },
     "metadata": {},
     "output_type": "display_data"
    },
    {
     "data": {
      "image/png": "[encoded data removed]",
      "text/plain": [
       "<matplotlib.figure.Figure at 0x7f19d56e29b0>"
      ]
     },
     "metadata": {},
     "output_type": "display_data"
    }
   ],
   "source": [
    "plot_accuracy(train_acc, test_acc)"
   ]
  },
  {
   "cell_type": "code",
   "execution_count": 59,
   "metadata": {},
   "outputs": [
    {
     "data": {
      "text/plain": [
       "idp_VGG (\n",
       "  (features): Sequential (\n",
       "    (0): Conv2d(3, 64, kernel_size=(3, 3), stride=(1, 1), padding=(1, 1))\n",
       "    (1): ReLU (inplace)\n",
       "    (2): idp_tensor (\n",
       "    )\n",
       "    (3): Conv2d(64, 64, kernel_size=(3, 3), stride=(1, 1), padding=(1, 1))\n",
       "    (4): ReLU (inplace)\n",
       "    (5): idp_tensor (\n",
       "    )\n",
       "    (6): MaxPool2d (size=(2, 2), stride=(2, 2), dilation=(1, 1))\n",
       "    (7): Conv2d(64, 128, kernel_size=(3, 3), stride=(1, 1), padding=(1, 1))\n",
       "    (8): ReLU (inplace)\n",
       "    (9): idp_tensor (\n",
       "    )\n",
       "    (10): Conv2d(128, 128, kernel_size=(3, 3), stride=(1, 1), padding=(1, 1))\n",
       "    (11): ReLU (inplace)\n",
       "    (12): idp_tensor (\n",
       "    )\n",
       "    (13): MaxPool2d (size=(2, 2), stride=(2, 2), dilation=(1, 1))\n",
       "    (14): Conv2d(128, 256, kernel_size=(3, 3), stride=(1, 1), padding=(1, 1))\n",
       "    (15): ReLU (inplace)\n",
       "    (16): idp_tensor (\n",
       "    )\n",
       "    (17): Conv2d(256, 256, kernel_size=(3, 3), stride=(1, 1), padding=(1, 1))\n",
       "    (18): ReLU (inplace)\n",
       "    (19): idp_tensor (\n",
       "    )\n",
       "    (20): Conv2d(256, 256, kernel_size=(3, 3), stride=(1, 1), padding=(1, 1))\n",
       "    (21): ReLU (inplace)\n",
       "    (22): idp_tensor (\n",
       "    )\n",
       "    (23): MaxPool2d (size=(2, 2), stride=(2, 2), dilation=(1, 1))\n",
       "    (24): Conv2d(256, 512, kernel_size=(3, 3), stride=(1, 1), padding=(1, 1))\n",
       "    (25): ReLU (inplace)\n",
       "    (26): idp_tensor (\n",
       "    )\n",
       "    (27): Conv2d(512, 512, kernel_size=(3, 3), stride=(1, 1), padding=(1, 1))\n",
       "    (28): ReLU (inplace)\n",
       "    (29): idp_tensor (\n",
       "    )\n",
       "    (30): Conv2d(512, 512, kernel_size=(3, 3), stride=(1, 1), padding=(1, 1))\n",
       "    (31): ReLU (inplace)\n",
       "    (32): idp_tensor (\n",
       "    )\n",
       "    (33): MaxPool2d (size=(2, 2), stride=(2, 2), dilation=(1, 1))\n",
       "    (34): Conv2d(512, 512, kernel_size=(3, 3), stride=(1, 1), padding=(1, 1))\n",
       "    (35): ReLU (inplace)\n",
       "    (36): idp_tensor (\n",
       "    )\n",
       "    (37): Conv2d(512, 512, kernel_size=(3, 3), stride=(1, 1), padding=(1, 1))\n",
       "    (38): ReLU (inplace)\n",
       "    (39): idp_tensor (\n",
       "    )\n",
       "    (40): Conv2d(512, 512, kernel_size=(3, 3), stride=(1, 1), padding=(1, 1))\n",
       "    (41): ReLU (inplace)\n",
       "    (42): idp_tensor (\n",
       "    )\n",
       "    (43): MaxPool2d (size=(2, 2), stride=(2, 2), dilation=(1, 1))\n",
       "    (44): Flatten (\n",
       "    )\n",
       "  )\n",
       "  (classifier): Sequential (\n",
       "    (0): Linear (512 -> 512)\n",
       "    (1): ReLU (inplace)\n",
       "    (2): Dropout (p = 0.5)\n",
       "    (3): Linear (512 -> 10)\n",
       "  )\n",
       ")"
      ]
     },
     "execution_count": 59,
     "metadata": {},
     "output_type": "execute_result"
    }
   ],
   "source": [
    "net.load_state_dict(torch.load('allone_idp_model.pkl'))\n",
    "net.eval()"
   ]
  },
  {
   "cell_type": "code",
   "execution_count": 60,
   "metadata": {},
   "outputs": [
    {
     "name": "stdout",
     "output_type": "stream",
     "text": [
      "Accuracy of the network on the 10000 test images: 85 %\n"
     ]
    },
    {
     "data": {
      "text/plain": [
       "85.75"
      ]
     },
     "execution_count": 60,
     "metadata": {},
     "output_type": "execute_result"
    }
   ],
   "source": [
    "def test_acccuracy(testloader, model):\n",
    "    correct = 0\n",
    "    total = 0\n",
    "    for data in testloader:\n",
    "        images, labels = data\n",
    "        outputs = model(Variable(images, volatile=True).type(dtype))\n",
    "        labels = Variable(labels, volatile=True).type(torch.cuda.LongTensor)\n",
    "        _, predicted = torch.max(outputs.data, 1)\n",
    "        total += labels.size(0)\n",
    "        correct += (predicted == labels.data).sum()\n",
    "    acc = 100*correct/total\n",
    "    print('Accuracy of the network on the 10000 test images: %d %%' % (acc))\n",
    "    return acc\n",
    "\n",
    "test_acccuracy(testloader, net)"
   ]
  },
  {
   "cell_type": "code",
   "execution_count": 61,
   "metadata": {},
   "outputs": [
    {
     "name": "stdout",
     "output_type": "stream",
     "text": [
      "[0.05, 0.1, 0.15, 0.2, 0.25, 0.3, 0.35, 0.4, 0.45, 0.5, 0.55, 0.6, 0.65, 0.7, 0.75, 0.8, 0.85, 0.9, 0.95, 1.0]\n",
      "Accuracy of the network on the 10000 test images: 10 %\n",
      "Accuracy of the network on the 10000 test images: 10 %\n",
      "Accuracy of the network on the 10000 test images: 10 %\n",
      "Accuracy of the network on the 10000 test images: 10 %\n",
      "Accuracy of the network on the 10000 test images: 10 %\n",
      "Accuracy of the network on the 10000 test images: 10 %\n",
      "Accuracy of the network on the 10000 test images: 10 %\n",
      "Accuracy of the network on the 10000 test images: 9 %\n",
      "Accuracy of the network on the 10000 test images: 9 %\n",
      "Accuracy of the network on the 10000 test images: 10 %\n",
      "Accuracy of the network on the 10000 test images: 10 %\n",
      "Accuracy of the network on the 10000 test images: 10 %\n",
      "Accuracy of the network on the 10000 test images: 10 %\n",
      "Accuracy of the network on the 10000 test images: 15 %\n",
      "Accuracy of the network on the 10000 test images: 20 %\n",
      "Accuracy of the network on the 10000 test images: 24 %\n",
      "Accuracy of the network on the 10000 test images: 33 %\n",
      "Accuracy of the network on the 10000 test images: 46 %\n",
      "Accuracy of the network on the 10000 test images: 69 %\n",
      "Accuracy of the network on the 10000 test images: 84 %\n"
     ]
    }
   ],
   "source": [
    "idp_acc_history = []\n",
    "idp_harmonic_history = [0]*20\n",
    "\n",
    "idp_scale = list(map(lambda x: x/20,range(1,21)))\n",
    "print(idp_scale)\n",
    "for i in idp_scale:\n",
    "    net_inference = idp_VGG(i,idp_layers).type(dtype)\n",
    "    net_inference.load_state_dict(torch.load('allone_idp_model.pkl'))\n",
    "    a = test_acccuracy(testloader, net_inference)\n",
    "    idp_acc_history.append(a)"
   ]
  },
  {
   "cell_type": "code",
   "execution_count": 62,
   "metadata": {},
   "outputs": [
    {
     "data": {
      "text/plain": [
       "[10.0,\n",
       " 10.0,\n",
       " 10.0,\n",
       " 10.0,\n",
       " 10.01,\n",
       " 10.0,\n",
       " 10.05,\n",
       " 9.97,\n",
       " 9.98,\n",
       " 10.04,\n",
       " 10.4,\n",
       " 10.0,\n",
       " 10.53,\n",
       " 15.1,\n",
       " 20.53,\n",
       " 24.51,\n",
       " 33.01,\n",
       " 46.47,\n",
       " 69.54,\n",
       " 84.88]"
      ]
     },
     "execution_count": 62,
     "metadata": {},
     "output_type": "execute_result"
    }
   ],
   "source": [
    "idp_acc_history"
   ]
  },
  {
   "cell_type": "code",
   "execution_count": 63,
   "metadata": {
    "collapsed": true
   },
   "outputs": [],
   "source": [
    "def plot_idp_accuracy(accuracy1=None, accuracy2=None):\n",
    "    plt.clf()\n",
    "    fig3 = plt.figure()\n",
    "    ax1 = fig3.add_subplot(111)\n",
    "    idp_scale = list(map(lambda x: x/20,range(1,21)))\n",
    "    idp_scale_i = [i for i in range(0, len(idp_scale))]\n",
    "    if accuracy1:\n",
    "        ax1.plot(idp_scale_i, accuracy1, marker='o', linestyle='-', color='r', label=\"all-one(standard)\")\n",
    "    if accuracy2:\n",
    "        ax1.plot(idp_scale_i, accuracy2, 'g^', label=\"harmonic\")\n",
    "    plt.xticks(idp_scale_i, idp_scale)\n",
    "    plt.xlabel(\"IDP\") \n",
    "    plt.ylabel(\"Accuracy(%)\")\n",
    "    plt.legend(bbox_to_anchor=(1.05, 1), loc=2, borderaxespad=0.)\n",
    "    plt.title(\"VGG(CIFAR-10)\") \n",
    "    plt.savefig('idp_accuracy.png')"
   ]
  },
  {
   "cell_type": "code",
   "execution_count": 64,
   "metadata": {},
   "outputs": [
    {
     "data": {
      "text/plain": [
       "<matplotlib.figure.Figure at 0x7f19d56fa780>"
      ]
     },
     "metadata": {},
     "output_type": "display_data"
    },
    {
     "data": {
      "image/png": "[encoded data removed]",
      "text/plain": [
       "<matplotlib.figure.Figure at 0x7f19d5750780>"
      ]
     },
     "metadata": {},
     "output_type": "display_data"
    }
   ],
   "source": [
    "plot_idp_accuracy(idp_acc_history)"
   ]
  },
  {
   "cell_type": "code",
   "execution_count": null,
   "metadata": {
    "collapsed": true
   },
   "outputs": [],
   "source": []
  }
 ],
 "metadata": {
  "kernelspec": {
   "display_name": "Python 3",
   "language": "python",
   "name": "python3"
  },
  "language_info": {
   "codemirror_mode": {
    "name": "ipython",
    "version": 3
   },
   "file_extension": ".py",
   "mimetype": "text/x-python",
   "name": "python",
   "nbconvert_exporter": "python",
   "pygments_lexer": "ipython3",
   "version": "3.6.2"
  }
 },
 "nbformat": 4,
 "nbformat_minor": 2
}
