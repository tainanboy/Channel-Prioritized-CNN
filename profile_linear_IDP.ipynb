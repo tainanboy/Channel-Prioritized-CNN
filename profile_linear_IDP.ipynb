{
 "cells": [
  {
   "cell_type": "code",
   "execution_count": 20,
   "metadata": {
    "collapsed": true
   },
   "outputs": [],
   "source": [
    "import torch\n",
    "from torch.autograd import Variable\n",
    "import torch.nn as nn\n",
    "import torch.nn.functional as F\n",
    "import torch.optim as optim\n",
    "import torchvision\n",
    "import torchvision.transforms as transforms\n",
    "import torchvision.models as models\n",
    "from torch.utils.data import sampler\n",
    "import math\n",
    "import os\n",
    "os.environ[\"CUDA_VISIBLE_DEVICES\"] = \"1\"\n",
    "import matplotlib.pyplot as plt\n",
    "%matplotlib inline\n",
    "import numpy as np"
   ]
  },
  {
   "cell_type": "code",
   "execution_count": 2,
   "metadata": {},
   "outputs": [
    {
     "name": "stdout",
     "output_type": "stream",
     "text": [
      "1\n",
      "True\n"
     ]
    }
   ],
   "source": [
    "#torch.cuda.set_device(0)\n",
    "# specify dtype\n",
    "use_cuda = torch.cuda.is_available()\n",
    "if use_cuda:\n",
    "    dtype = torch.cuda.FloatTensor\n",
    "else:\n",
    "    dtype = torch.FloatTensor\n",
    "print(torch.cuda.device_count())\n",
    "print(use_cuda)"
   ]
  },
  {
   "cell_type": "code",
   "execution_count": 5,
   "metadata": {
    "collapsed": true
   },
   "outputs": [],
   "source": [
    "# Hyperparameters\n",
    "batch_size = 32\n",
    "learning_rate = 4e-3\n",
    "momentum = 0.9\n",
    "num_epoch = 10"
   ]
  },
  {
   "cell_type": "code",
   "execution_count": 56,
   "metadata": {},
   "outputs": [
    {
     "name": "stdout",
     "output_type": "stream",
     "text": [
      "Files already downloaded and verified\n",
      "Files already downloaded and verified\n",
      "Files already downloaded and verified\n",
      "50000\n",
      "10000\n",
      "10000\n"
     ]
    }
   ],
   "source": [
    "# Data\n",
    "class ChunkSampler(sampler.Sampler):\n",
    "    \"\"\"Samples elements sequentially from some offset. \n",
    "    Arguments:\n",
    "        num_samples: # of desired datapoints\n",
    "        start: offset where we should start selecting from\n",
    "    \"\"\"\n",
    "    def __init__(self, num_samples, start = 0):\n",
    "        self.num_samples = num_samples\n",
    "        self.start = start\n",
    "\n",
    "    def __iter__(self):\n",
    "        return iter(range(self.start, self.start + self.num_samples))\n",
    "\n",
    "    def __len__(self):\n",
    "        return self.num_samples\n",
    "\n",
    "data_path = '/data/put_data/frank840925/IDP/data'\n",
    "transform = transforms.Compose(\n",
    "    [transforms.ToTensor(),\n",
    "     transforms.Normalize((0.485, 0.456, 0.406), (0.229, 0.224, 0.225))])\n",
    "\n",
    "trainset = torchvision.datasets.CIFAR10(root=data_path, \n",
    "                                        train=True, download=True, transform=transform)\n",
    "trainloader = torch.utils.data.DataLoader(trainset, batch_size=batch_size, shuffle=True, \n",
    "                                          num_workers=2)\n",
    "\n",
    "valset = torchvision.datasets.CIFAR10(root=data_path, \n",
    "                                       train=False, download=True, transform=transform)\n",
    "valloader = torch.utils.data.DataLoader(valset, batch_size=batch_size, shuffle=False, sampler=ChunkSampler(5000,0), \n",
    "                                        num_workers=2)\n",
    "\n",
    "testset = torchvision.datasets.CIFAR10(root=data_path, \n",
    "                                       train=False, download=True, transform=transform)\n",
    "testloader = torch.utils.data.DataLoader(testset, batch_size=batch_size, shuffle=False, sampler=ChunkSampler(5000,5000),\n",
    "                                        num_workers=2)\n",
    "\n",
    "print(trainset.__len__())\n",
    "print(valset.__len__())\n",
    "print(testset.__len__())"
   ]
  },
  {
   "cell_type": "code",
   "execution_count": 7,
   "metadata": {},
   "outputs": [
    {
     "name": "stdout",
     "output_type": "stream",
     "text": [
      "torch.Size([32, 3, 32, 32])\n"
     ]
    }
   ],
   "source": [
    "# Helper functions\n",
    "# functions to show an image\n",
    "def imshow(img):\n",
    "    img = img / 2 + 0.5     # unnormalize\n",
    "    npimg = img.numpy()\n",
    "    plt.imshow(np.transpose(npimg, (1, 2, 0)))\n",
    "\n",
    "def plot_losses(loss_history1=None, loss_history2=None):\n",
    "    plt.clf()\n",
    "    fig = plt.figure()\n",
    "    ax1 = fig.add_subplot(111)\n",
    "    if loss_history1:\n",
    "        ax1.plot(loss_history1, color=\"blue\", label=\"train\")\n",
    "    if loss_history2:\n",
    "        ax1.plot(loss_history2, color=\"green\", label=\"test\")\n",
    "    #ax2 = ax1.twinx()\n",
    "    #ax2.set_yscale('log')\n",
    "    plt.xlabel(\"epoch\") \n",
    "    plt.ylabel(\"loss\") \n",
    "    plt.legend(bbox_to_anchor=(1.05, 1), loc=2, borderaxespad=0.)\n",
    "    plt.title(\"Cross-entropy loss\")\n",
    "    plt.savefig('output_losses.png')\n",
    "\n",
    "def plot_accuracy(accuracy1=None, accuracy2=None):\n",
    "    plt.clf()\n",
    "    fig2 = plt.figure()\n",
    "    ax1 = fig2.add_subplot(111)\n",
    "    if accuracy1:\n",
    "        ax1.plot(accuracy1, color=\"red\", label=\"train\")\n",
    "    if accuracy2:\n",
    "        ax1.plot(accuracy2, color=\"black\", label=\"test\")\n",
    "    plt.xlabel(\"epoch\") \n",
    "    plt.ylabel(\"accuracy\")\n",
    "    plt.legend(bbox_to_anchor=(1.05, 1), loc=2, borderaxespad=0.)\n",
    "    plt.title(\"Train/Test accuracy\") \n",
    "    plt.savefig('accuracy.png')\n",
    "\n",
    "# get some random training images\n",
    "dataiter = iter(trainloader)\n",
    "images, labels = dataiter.next()\n",
    "print(images.shape)"
   ]
  },
  {
   "cell_type": "code",
   "execution_count": 8,
   "metadata": {
    "collapsed": true
   },
   "outputs": [],
   "source": [
    "# Self-defined modules(layers)\n",
    "class Flatten(nn.Module):\n",
    "    def forward(self, x):\n",
    "        # read in N, C, H, W\n",
    "        N, C, H, W = x.size()\n",
    "        # flatten the C * H * W values into a single vector per image\n",
    "        return x.view(N, -1)  \n",
    "    \n",
    "class idp_tensor(nn.Module):\n",
    "    def __init__(self, idp):\n",
    "        super(idp_tensor, self).__init__()\n",
    "        self.idp = idp\n",
    "    def forward(self, c):\n",
    "        #c is an input tensor, size N*C*H*W\n",
    "        N, C, H, W = c.size()\n",
    "        non_zero_channel = int(C*(self.idp))\n",
    "        if C-non_zero_channel > 0:\n",
    "            zeros = Variable(torch.zeros(N, C-non_zero_channel, H, W)).type(dtype)\n",
    "            c = torch.cat([c[:, :non_zero_channel, :, :].clone(), zeros], 1).type(dtype)\n",
    "            #c[:, non_zero_channel:, :, :] = zeros\n",
    "            return c\n",
    "        else:\n",
    "            return c\n",
    "        \n",
    "class range_idp_tensor(nn.Module):\n",
    "    #idp is 0~1\n",
    "    def __init__(self, idp_low, idp_high):\n",
    "        super(range_idp_tensor, self).__init__()\n",
    "        self.idp_low = idp_low\n",
    "        self.idp_high = idp_high\n",
    "    \n",
    "    def forward(self, c):\n",
    "        #c is an input tensor, size N*C*H*W\n",
    "        #set range C*idp_low:C*idp_high as nonzero\n",
    "        N, C, H, W = c.size()\n",
    "        if int(C*self.idp_low)!=0 and int(C*self.idp_high)!=C:\n",
    "            non_zeros = c[:,int(C*self.idp_low):int(C*self.idp_high), :,:].clone()\n",
    "            low = Variable(torch.zeros(N, int(C*self.idp_low), H, W)).type(dtype)\n",
    "            high = Variable(torch.zeros(N, C-int(C*self.idp_high), H, W)).type(dtype)\n",
    "            c = torch.cat([low, non_zeros, high],1).type(dtype)\n",
    "            return c\n",
    "        elif int(C*self.idp_high)!=C:\n",
    "            non_zeros = c[:,int(C*self.idp_low):int(C*self.idp_high), :,:].clone()\n",
    "            high = Variable(torch.zeros(N, C-int(C*self.idp_high), H, W)).type(dtype)\n",
    "            c = torch.cat([non_zeros, high],1).type(dtype)\n",
    "            return c\n",
    "        elif int(C*self.idp_low)!=0:\n",
    "            non_zeros = c[:,int(C*self.idp_low):int(C*self.idp_high), :,:].clone()\n",
    "            low = Variable(torch.zeros(N, int(C*self.idp_low), H, W)).type(dtype)\n",
    "            c = torch.cat([low, non_zeros],1).type(dtype)\n",
    "            return c\n",
    "        else:\n",
    "            return c\n",
    "        \n",
    "class func_allone(nn.Module):\n",
    "    def forward(self, x):\n",
    "        #x is an input tensor, size N*C*H*W\n",
    "        #for cnn, functions are applied to each filter\n",
    "        N, C, H, W = x.size()\n",
    "        x = torch.mul(x.clone(), Variable(torch.ones(N, C, H, W), requires_grad=False).type(dtype))\n",
    "        return x\n",
    "\n",
    "class func_linear(nn.Module):\n",
    "    def __init__(self, k=1):\n",
    "        super(func_linear, self).__init__()\n",
    "        self.k = k\n",
    "    def channel_coeff(self, N, C, H, W):\n",
    "        #C is channels, return a list with corresponding index: [k, k/2,...]\n",
    "        #returns a tensor with size N*C*H*W\n",
    "        coeff = list(map(lambda a: 1-(a/(C+1)), range(0,C)))\n",
    "        tensor_list = []\n",
    "        for c in coeff:\n",
    "            coeff_tensor = torch.ones(H, W)\n",
    "            coeff_tensor = torch.mul(coeff_tensor, c)\n",
    "            tensor_list.append(coeff_tensor)\n",
    "        ct = torch.stack(tensor_list, 0)\n",
    "        ct = torch.stack(([ct]*N))\n",
    "        return ct\n",
    "    \n",
    "    def forward(self, x):\n",
    "        N, C, H, W = x.size()\n",
    "        x = torch.mul(x.clone(), Variable(self.channel_coeff(N, C, H, W), requires_grad=False).type(dtype))\n",
    "        return x\n",
    "        \n",
    "class func_harmonic(nn.Module):\n",
    "    #perform element-wise multiplication to channels in x with coefficient k/n, n is channel index\n",
    "    def __init__(self, k=1):\n",
    "        super(func_harmonic, self).__init__()\n",
    "        self.k = k\n",
    "    def channel_coeff(self, N, C, H, W):\n",
    "        #C is channels, return a list with corresponding index: [k, k/2,...]\n",
    "        #returns a tensor with size N*C*H*W\n",
    "        coeff = list(map(lambda a: self.k/a, range(1,C+1)))\n",
    "        tensor_list = []\n",
    "        for c in coeff:\n",
    "            coeff_tensor = torch.ones(H, W)\n",
    "            coeff_tensor = torch.mul(coeff_tensor, c)\n",
    "            tensor_list.append(coeff_tensor)\n",
    "        ct = torch.stack(tensor_list, 0)\n",
    "        ct = torch.stack(([ct]*N))\n",
    "        return ct\n",
    "    \n",
    "    def forward(self, x):\n",
    "        #x is an input tensor, size N*C*H*W\n",
    "        #for cnn, functions are applied to each filter\n",
    "        N, C, H, W = x.size()\n",
    "        x = torch.mul(x.clone(), Variable(self.channel_coeff(N, C, H, W), requires_grad=False).type(dtype))\n",
    "        return x"
   ]
  },
  {
   "cell_type": "code",
   "execution_count": 40,
   "metadata": {
    "collapsed": true
   },
   "outputs": [],
   "source": [
    "class profile_coef_idp_VGG(nn.Module):\n",
    "    def __init__(self, idp, idp_layers, model, only_modify=False):\n",
    "        #idp is 0~1, idp_layers is a set, specify which layer in features should apply idp\n",
    "        #now idp_layers is 1,3,6,8,11,13,15,18,20,22,25,27,29\n",
    "        super(profile_coef_idp_VGG, self).__init__()\n",
    "        self.idp = idp\n",
    "        self.idp_layers = idp_layers\n",
    "        self.only_modify = only_modify\n",
    "        self.features = nn.Sequential(*(self.new_features_list(model)))\n",
    "        self.classifier = nn.Sequential(nn.Linear(512, 512),\n",
    "                              nn.ReLU(inplace=True),\n",
    "                              nn.Dropout(0.5),\n",
    "                              nn.Linear(512, 10))\n",
    "    \n",
    "    def new_features_list(self, model):\n",
    "        new_layers = []\n",
    "        if self.only_modify is True:\n",
    "            #create from previous lower IDP model, only modifies IDP range\n",
    "            for i, layer in enumerate(list(model.features.children())):\n",
    "                #need to change range_layers\n",
    "                if i not in {3,7,12,16,21,25,29,34,38,42,47,51,55}:\n",
    "                    new_layers.append(layer)\n",
    "                else:\n",
    "                    new_layers.append(idp_tensor(self.idp))\n",
    "        else:\n",
    "            #create from pre-trained resnet\n",
    "            for i, layer in enumerate(list(model.features.children())):\n",
    "                if i not in self.idp_layers:\n",
    "                    new_layers.append(layer)\n",
    "                else:\n",
    "                    new_layers.append(layer)\n",
    "                    new_layers.append(func_linear())\n",
    "                    new_layers.append(idp_tensor(self.idp))\n",
    "            new_layers.append(Flatten())\n",
    "        return new_layers        \n",
    "    \n",
    "    def forward(self, x):\n",
    "        out = self.features(x)\n",
    "        out = self.classifier(out)\n",
    "        return out"
   ]
  },
  {
   "cell_type": "code",
   "execution_count": 44,
   "metadata": {},
   "outputs": [
    {
     "name": "stdout",
     "output_type": "stream",
     "text": [
      "torch.Size([32, 10])\n"
     ]
    }
   ],
   "source": [
    "# Testing net by doing forward pass, checking output size\n",
    "idp_layers = {1,3,6,8,11,13,15,18,20,22,25,27,29}\n",
    "net = profile_coef_idp_VGG(0.5,idp_layers,models.vgg16(pretrained=True),False).type(dtype)\n",
    "\n",
    "x = Variable(torch.randn(32, 3, 32, 32)).type(dtype)\n",
    "out = net(x)\n",
    "print(out.size())\n",
    "\n",
    "net2 = profile_coef_idp_VGG(1,idp_layers, net, True).type(dtype)\n",
    "out = net2(x)\n",
    "print(out.size())"
   ]
  },
  {
   "cell_type": "code",
   "execution_count": 48,
   "metadata": {
    "collapsed": true
   },
   "outputs": [],
   "source": [
    "def train(num_epoch, net, criterion, optimizer):\n",
    "    train_loss = []\n",
    "    test_loss = []\n",
    "    train_acc = []\n",
    "    test_acc = []\n",
    "\n",
    "    # start training\n",
    "    for epoch in range(num_epoch):  # loop over the dataset multiple times\n",
    "        running_loss1 = []\n",
    "        running_loss2 = []\n",
    "        running_correct1=[]\n",
    "        running_correct2=[]\n",
    "        for i, data in enumerate(trainloader, 0):\n",
    "            correct = 0\n",
    "            net.train(True)\n",
    "            # get the inputs\n",
    "            inputs, labels = data\n",
    "            # wrap them in Variable\n",
    "            inputs, labels = Variable(inputs).type(dtype), Variable(labels).type(torch.cuda.LongTensor)\n",
    "            # zero the parameter gradients\n",
    "            optimizer.zero_grad()\n",
    "            # forward + backward + optimize\n",
    "            outputs = net(inputs)\n",
    "            loss = criterion(outputs, labels)\n",
    "            loss.backward()\n",
    "            optimizer.step()\n",
    "            # print statistics\n",
    "            # loss\n",
    "            running_loss1.append(loss.data[0])\n",
    "            # accuracy\n",
    "            _, predicted = torch.max(outputs.data, 1)\n",
    "            correct += (predicted == labels.data).sum()\n",
    "            correct = correct/labels.size(0)*100\n",
    "            running_correct1.append(correct)\n",
    "\n",
    "        for i, tdata in enumerate(valloader, 0):\n",
    "            test_correct = 0\n",
    "            net.train(False)\n",
    "            tinputs, tlabels = tdata\n",
    "            tinputs, tlabels = Variable(tinputs).type(dtype), Variable(tlabels).type(torch.cuda.LongTensor)\n",
    "            toutput = net(tinputs)\n",
    "            tloss = criterion(toutput, tlabels)\n",
    "            running_loss2.append(tloss.data[0])\n",
    "            _, tpredicted = torch.max(toutput.data, 1)\n",
    "            test_correct += (tpredicted == tlabels.data).sum()\n",
    "            test_correct = test_correct/tlabels.size(0)*100\n",
    "            running_correct2.append(test_correct)\n",
    "\n",
    "        train_loss.append(np.mean(running_loss1))\n",
    "        test_loss.append(np.mean(running_loss2))\n",
    "        train_acc.append(np.mean(running_correct1))\n",
    "        test_acc.append(np.mean(running_correct2))\n",
    "\n",
    "        #statistics\n",
    "        print('Epoch [%d/%d], Train Loss:%.3f, Val Loss:%.3f, Train Accuracy:%.3f percent, Val Accuracy:%.3f percent' \n",
    "                    %(epoch+1, num_epoch, train_loss[-1], test_loss[-1], train_acc[-1], test_acc[-1]))\n",
    "        #save model every 10 epoch\n",
    "        if epoch!=0 and epoch%10 ==0:\n",
    "            file = 'saved_models/'+str(epoch)+'_epoch_profile_linear_idp_model.pkl'\n",
    "            torch.save(net.state_dict(), file)\n",
    "        #early stopping\n",
    "        if epoch >= 3:\n",
    "            if (test_acc[-1] - test_acc[-2]) <=0 and (test_acc[-1] - test_acc[-3]) <= 0:\n",
    "                print('Early stopping')\n",
    "                return train_loss, test_loss, train_acc, test_acc\n",
    "            else:\n",
    "                continue\n",
    "        \n",
    "    print('Finished Training')\n",
    "    return train_loss, test_loss, train_acc, test_acc"
   ]
  },
  {
   "cell_type": "code",
   "execution_count": null,
   "metadata": {
    "collapsed": true
   },
   "outputs": [],
   "source": [
    "# loss and optimizer\n",
    "criterion = nn.CrossEntropyLoss()\n",
    "#optimizer = optim.SGD([{'params': net.features.parameters()},\n",
    "#                       {'params': net.classifier.parameters(), 'lr': 1e-3}], lr=3e-4, momentum=momentum)\n",
    "#optimizer = optim.SGD(net.parameters(), lr=4e-3, momentum=momentum)\n",
    "#optimizer2 = optim.SGD(net2.parameters(), lr=4e-3, momentum=momentum)\n",
    "#optimizer = optim.Adam(net.parameters(), lr = 4e-3)"
   ]
  },
  {
   "cell_type": "code",
   "execution_count": 50,
   "metadata": {},
   "outputs": [
    {
     "name": "stdout",
     "output_type": "stream",
     "text": [
      "train with profile1\n",
      "Epoch [1/7], Train Loss:2.303, Val Loss:2.302, Train Accuracy:10.075 percent, Val Accuracy:9.972 percent\n",
      "Epoch [2/7], Train Loss:2.102, Val Loss:1.789, Train Accuracy:16.319 percent, Val Accuracy:23.069 percent\n",
      "Epoch [3/7], Train Loss:1.691, Val Loss:1.473, Train Accuracy:30.154 percent, Val Accuracy:39.132 percent\n",
      "Epoch [4/7], Train Loss:1.388, Val Loss:1.277, Train Accuracy:44.234 percent, Val Accuracy:53.981 percent\n",
      "Epoch [5/7], Train Loss:1.123, Val Loss:0.954, Train Accuracy:59.931 percent, Val Accuracy:66.023 percent\n",
      "Epoch [6/7], Train Loss:0.883, Val Loss:0.827, Train Accuracy:69.522 percent, Val Accuracy:71.576 percent\n",
      "Epoch [7/7], Train Loss:0.744, Val Loss:0.785, Train Accuracy:74.784 percent, Val Accuracy:74.343 percent\n",
      "Finished Training\n",
      "train with profile2\n",
      "Epoch [1/7], Train Loss:0.678, Val Loss:0.679, Train Accuracy:77.523 percent, Val Accuracy:77.110 percent\n",
      "Epoch [2/7], Train Loss:0.531, Val Loss:0.635, Train Accuracy:82.300 percent, Val Accuracy:78.762 percent\n",
      "Epoch [3/7], Train Loss:0.453, Val Loss:0.558, Train Accuracy:85.011 percent, Val Accuracy:81.847 percent\n",
      "Epoch [4/7], Train Loss:0.387, Val Loss:0.533, Train Accuracy:87.376 percent, Val Accuracy:82.902 percent\n",
      "Epoch [5/7], Train Loss:0.331, Val Loss:0.546, Train Accuracy:89.089 percent, Val Accuracy:82.902 percent\n",
      "Epoch [6/7], Train Loss:0.288, Val Loss:0.637, Train Accuracy:90.555 percent, Val Accuracy:80.892 percent\n",
      "Early stopping\n"
     ]
    }
   ],
   "source": [
    "# define models, optimizers, training\n",
    "idp_ranges = [0.5, 1]\n",
    "all_train_loss = []\n",
    "all_test_loss = []\n",
    "all_train_acc = []\n",
    "all_test_acc = []\n",
    "\n",
    "idp_layers = {1,3,6,8,11,13,15,18,20,22,25,27,29}\n",
    "for index, idp in enumerate(idp_ranges):\n",
    "    if index == 0:\n",
    "        print('train with profile1')\n",
    "        net = profile_coef_idp_VGG(idp,idp_layers,models.vgg16(pretrained=True),False).type(dtype)\n",
    "        optimizer = optim.SGD(net.parameters(), lr=learning_rate, momentum=momentum)\n",
    "        train_loss, test_loss, train_acc, test_acc = train(num_epoch, net, criterion, optimizer)\n",
    "        all_train_loss.extend(train_loss)\n",
    "        all_test_loss.extend(test_loss)\n",
    "        all_train_acc.extend(train_acc)\n",
    "        all_test_acc.extend(test_acc)\n",
    "    else:\n",
    "        print('train with profile2')\n",
    "        net2 = profile_coef_idp_VGG(idp,idp_layers,net,True).type(dtype) \n",
    "        optimizer2 = optim.SGD(net2.parameters(), lr=learning_rate, momentum=momentum)\n",
    "        train_loss, test_loss, train_acc, test_acc = train(num_epoch, net2, criterion, optimizer2)\n",
    "        all_train_loss.extend(train_loss)\n",
    "        all_test_loss.extend(test_loss)\n",
    "        all_train_acc.extend(train_acc)\n",
    "        all_test_acc.extend(test_acc)"
   ]
  },
  {
   "cell_type": "code",
   "execution_count": 51,
   "metadata": {
    "collapsed": true
   },
   "outputs": [],
   "source": [
    "# Save the Model\n",
    "#net = net_history[-1]\n",
    "torch.save(net2.state_dict(), 'saved_models/profile_linear_idp_model.pkl')"
   ]
  },
  {
   "cell_type": "code",
   "execution_count": 52,
   "metadata": {},
   "outputs": [
    {
     "data": {
      "text/plain": [
       "<matplotlib.figure.Figure at 0x7f31941b70b8>"
      ]
     },
     "metadata": {},
     "output_type": "display_data"
    },
    {
     "data": {
      "image/png": "[encoded data removed]",
      "text/plain": [
       "<matplotlib.figure.Figure at 0x7f31941b7710>"
      ]
     },
     "metadata": {},
     "output_type": "display_data"
    }
   ],
   "source": [
    "plot_losses(all_train_loss, all_test_loss)"
   ]
  },
  {
   "cell_type": "code",
   "execution_count": 53,
   "metadata": {},
   "outputs": [
    {
     "data": {
      "text/plain": [
       "<matplotlib.figure.Figure at 0x7f3184d3c2b0>"
      ]
     },
     "metadata": {},
     "output_type": "display_data"
    },
    {
     "data": {
      "image/png": "[encoded data removed]",
      "text/plain": [
       "<matplotlib.figure.Figure at 0x7f319415d668>"
      ]
     },
     "metadata": {},
     "output_type": "display_data"
    }
   ],
   "source": [
    "plot_accuracy(all_train_acc, all_test_acc)"
   ]
  },
  {
   "cell_type": "code",
   "execution_count": 54,
   "metadata": {
    "collapsed": true
   },
   "outputs": [],
   "source": [
    "# Load the trained model\n",
    "net2.load_state_dict(torch.load('saved_models/profile_linear_idp_model.pkl'))\n",
    "# Set net in inference mode"
   ]
  },
  {
   "cell_type": "code",
   "execution_count": 57,
   "metadata": {},
   "outputs": [
    {
     "name": "stdout",
     "output_type": "stream",
     "text": [
      "Accuracy of the network on the 10000 test images: 81 %\n"
     ]
    },
    {
     "data": {
      "text/plain": [
       "81.58"
      ]
     },
     "execution_count": 57,
     "metadata": {},
     "output_type": "execute_result"
    }
   ],
   "source": [
    "def test_acccuracy(testloader, model):\n",
    "    correct = 0\n",
    "    total = 0\n",
    "    for data in testloader:\n",
    "        images, labels = data\n",
    "        outputs = model.forward(Variable(images, volatile=True).type(dtype))\n",
    "        labels = Variable(labels, volatile=True).type(torch.cuda.LongTensor)\n",
    "        _, predicted = torch.max(outputs.data, 1)\n",
    "        total += labels.size(0)\n",
    "        correct += (predicted == labels.data).sum()\n",
    "    acc = 100*correct/total\n",
    "    print('Accuracy of the network on the 10000 test images: %d %%' % (acc))\n",
    "    return acc\n",
    "\n",
    "test_acccuracy(testloader, net2.eval())"
   ]
  },
  {
   "cell_type": "code",
   "execution_count": 59,
   "metadata": {},
   "outputs": [
    {
     "name": "stdout",
     "output_type": "stream",
     "text": [
      "[0.05, 0.1, 0.15, 0.2, 0.25, 0.3, 0.35, 0.4, 0.45, 0.5, 0.55, 0.6, 0.65, 0.7, 0.75, 0.8, 0.85, 0.9, 0.95, 1.0]\n",
      "Accuracy of the network on the 10000 test images: 10 %\n",
      "Accuracy of the network on the 10000 test images: 10 %\n",
      "Accuracy of the network on the 10000 test images: 10 %\n",
      "Accuracy of the network on the 10000 test images: 10 %\n",
      "Accuracy of the network on the 10000 test images: 9 %\n",
      "Accuracy of the network on the 10000 test images: 11 %\n",
      "Accuracy of the network on the 10000 test images: 17 %\n",
      "Accuracy of the network on the 10000 test images: 45 %\n",
      "Accuracy of the network on the 10000 test images: 65 %\n",
      "Accuracy of the network on the 10000 test images: 73 %\n",
      "Accuracy of the network on the 10000 test images: 75 %\n",
      "Accuracy of the network on the 10000 test images: 76 %\n",
      "Accuracy of the network on the 10000 test images: 78 %\n",
      "Accuracy of the network on the 10000 test images: 79 %\n",
      "Accuracy of the network on the 10000 test images: 80 %\n",
      "Accuracy of the network on the 10000 test images: 80 %\n",
      "Accuracy of the network on the 10000 test images: 81 %\n",
      "Accuracy of the network on the 10000 test images: 81 %\n",
      "Accuracy of the network on the 10000 test images: 81 %\n",
      "Accuracy of the network on the 10000 test images: 81 %\n"
     ]
    }
   ],
   "source": [
    "idp_acc_history = []\n",
    "idp_harmonic_history = [0]*20\n",
    "\n",
    "idp_scale = list(map(lambda x: x/20,range(1,21)))\n",
    "print(idp_scale)\n",
    "for i in idp_scale:\n",
    "    net_inference = profile_coef_idp_VGG(i,idp_layers,net2,True).type(dtype) \n",
    "    net_inference.load_state_dict(torch.load('saved_models/profile_linear_idp_model.pkl'))\n",
    "    a = test_acccuracy(testloader, net_inference.eval())\n",
    "    idp_acc_history.append(a)"
   ]
  },
  {
   "cell_type": "code",
   "execution_count": 60,
   "metadata": {},
   "outputs": [
    {
     "data": {
      "text/plain": [
       "[10.06,\n",
       " 10.06,\n",
       " 10.24,\n",
       " 10.24,\n",
       " 9.8,\n",
       " 11.58,\n",
       " 17.32,\n",
       " 45.62,\n",
       " 65.78,\n",
       " 73.66,\n",
       " 75.22,\n",
       " 76.98,\n",
       " 78.8,\n",
       " 79.96,\n",
       " 80.4,\n",
       " 80.94,\n",
       " 81.2,\n",
       " 81.2,\n",
       " 81.62,\n",
       " 81.58]"
      ]
     },
     "execution_count": 60,
     "metadata": {},
     "output_type": "execute_result"
    }
   ],
   "source": [
    "idp_acc_history"
   ]
  },
  {
   "cell_type": "code",
   "execution_count": 61,
   "metadata": {
    "collapsed": true
   },
   "outputs": [],
   "source": [
    "all_one_acc_history = [10.0,\n",
    " 10.0,\n",
    " 10.0,\n",
    " 10.0,\n",
    " 10.01,\n",
    " 10.0,\n",
    " 10.05,\n",
    " 9.97,\n",
    " 9.98,\n",
    " 10.04,\n",
    " 10.4,\n",
    " 10.0,\n",
    " 10.53,\n",
    " 15.1,\n",
    " 20.53,\n",
    " 24.51,\n",
    " 33.01,\n",
    " 46.47,\n",
    " 69.54,\n",
    " 84.88]"
   ]
  },
  {
   "cell_type": "code",
   "execution_count": 62,
   "metadata": {
    "collapsed": true
   },
   "outputs": [],
   "source": [
    "linear_history = [10.0,\n",
    " 10.0,\n",
    " 10.0,\n",
    " 10.0,\n",
    " 10.0,\n",
    " 10.0,\n",
    " 10.0,\n",
    " 10.01,\n",
    " 12.02,\n",
    " 14.02,\n",
    " 18.1,\n",
    " 29.97,\n",
    " 53.39,\n",
    " 70.65,\n",
    " 80.72,\n",
    " 83.42,\n",
    " 85.51,\n",
    " 85.85,\n",
    " 86.11,\n",
    " 86.2]"
   ]
  },
  {
   "cell_type": "code",
   "execution_count": 63,
   "metadata": {
    "collapsed": true
   },
   "outputs": [],
   "source": [
    "def plot_idp_accuracy(accuracy1=None, accuracy2=None, accuracy3=None):\n",
    "    plt.clf()\n",
    "    fig4 = plt.figure()\n",
    "    ax1 = fig4.add_subplot(111)\n",
    "    idp_scale = list(map(lambda x: x/20,range(1,21)))\n",
    "    idp_scale_i = [i for i in range(0, len(idp_scale))]\n",
    "    if accuracy1:\n",
    "        ax1.plot(idp_scale_i, accuracy1, marker='o', linestyle='-', color='r', label=\"all-one\")\n",
    "    if accuracy2:\n",
    "        ax1.plot(idp_scale_i, accuracy2, marker='o', linestyle='--', color='g', label=\"Linear\")\n",
    "    if accuracy3:\n",
    "        ax1.plot(idp_scale_i, accuracy3, marker='o', linestyle='--', color='b', label=\"Profile-Linear\")\n",
    "    plt.xticks(idp_scale_i, idp_scale)\n",
    "    plt.xlabel(\"IDP\") \n",
    "    plt.ylabel(\"Accuracy(%)\")\n",
    "    plt.legend(bbox_to_anchor=(1.05, 1), loc=2, borderaxespad=0.)\n",
    "    plt.title(\"VGG(CIFAR-10)\") \n",
    "    plt.savefig('results_graphs/profile_linear_idp_accuracy.png')"
   ]
  },
  {
   "cell_type": "code",
   "execution_count": 64,
   "metadata": {},
   "outputs": [
    {
     "data": {
      "text/plain": [
       "<matplotlib.figure.Figure at 0x7f3184c09208>"
      ]
     },
     "metadata": {},
     "output_type": "display_data"
    },
    {
     "data": {
      "image/png": "[encoded data removed]",
      "text/plain": [
       "<matplotlib.figure.Figure at 0x7f3184b76a90>"
      ]
     },
     "metadata": {},
     "output_type": "display_data"
    }
   ],
   "source": [
    "plot_idp_accuracy(all_one_acc_history,linear_history, idp_acc_history)"
   ]
  },
  {
   "cell_type": "code",
   "execution_count": null,
   "metadata": {
    "collapsed": true
   },
   "outputs": [],
   "source": []
  }
 ],
 "metadata": {
  "kernelspec": {
   "display_name": "Python 3",
   "language": "python",
   "name": "python3"
  },
  "language_info": {
   "codemirror_mode": {
    "name": "ipython",
    "version": 3
   },
   "file_extension": ".py",
   "mimetype": "text/x-python",
   "name": "python",
   "nbconvert_exporter": "python",
   "pygments_lexer": "ipython3",
   "version": "3.6.2"
  }
 },
 "nbformat": 4,
 "nbformat_minor": 2
}
